{
  "nbformat": 4,
  "nbformat_minor": 0,
  "metadata": {
    "colab": {
      "provenance": [],
      "authorship_tag": "ABX9TyN990MSgpY8uTe/OET0DdKF",
      "include_colab_link": true
    },
    "kernelspec": {
      "name": "python3",
      "display_name": "Python 3"
    },
    "language_info": {
      "name": "python"
    }
  },
  "cells": [
    {
      "cell_type": "markdown",
      "metadata": {
        "id": "view-in-github",
        "colab_type": "text"
      },
      "source": [
        "<a href=\"https://colab.research.google.com/github/kofibeans/APM1111-FA6/blob/main/AQUINO_APM1111_FA6.ipynb\" target=\"_parent\"><img src=\"https://colab.research.google.com/assets/colab-badge.svg\" alt=\"Open In Colab\"/></a>"
      ]
    },
    {
      "cell_type": "markdown",
      "source": [
        "### **APM1111 Formative Assessment 6**\n",
        "\n",
        "**Instruction**\n",
        "\n",
        "Provide an R or Python (with markdown) file for the independent samples t-test for Invisibility Cloak data set.\n",
        "\n",
        "*   The file should have all the codes/and or explanations from Assumption 1 to 5 and computation.\n",
        "*   Present the results of the analysis by making a short report."
      ],
      "metadata": {
        "id": "aQrIqhnW3TtN"
      }
    },
    {
      "cell_type": "markdown",
      "source": [
        "### **Import Library and Dataset**\n",
        "Import couple of Python library required for the analysis and create the dataset."
      ],
      "metadata": {
        "id": "wR7BmwcG3u11"
      }
    },
    {
      "cell_type": "code",
      "source": [
        "# import library\n",
        "\n",
        "import numpy as np\n",
        "import pandas as pd # data processing, csv file i/o (e.g. pd.read_csv)\n",
        "import scipy.stats as stats # statistical operations\n",
        "from scipy.stats import ttest_ind\n",
        "\n",
        "# visualization tools\n",
        "import matplotlib.pyplot as plt\n",
        "from IPython.display import display\n",
        "\n",
        "!pip install ptitprince\n",
        "import ptitprince as pt\n",
        "\n",
        "import statsmodels.api as sm\n",
        "from statsmodels.formula.api import ols\n",
        "from statsmodels.stats.anova import anova_lm\n",
        "\n",
        "!pip install researchpy\n",
        "import researchpy as rp # statistical operations"
      ],
      "metadata": {
        "colab": {
          "base_uri": "https://localhost:8080/"
        },
        "id": "BIBhE5dx5sOF",
        "outputId": "21174d52-fbaf-4c06-bed4-ca2fb3b82620"
      },
      "execution_count": null,
      "outputs": [
        {
          "output_type": "stream",
          "name": "stdout",
          "text": [
            "Requirement already satisfied: ptitprince in /usr/local/lib/python3.10/dist-packages (0.2.7)\n",
            "Requirement already satisfied: matplotlib in /usr/local/lib/python3.10/dist-packages (from ptitprince) (3.7.1)\n",
            "Requirement already satisfied: numpy>=1.20 in /usr/local/lib/python3.10/dist-packages (from ptitprince) (1.23.5)\n",
            "Requirement already satisfied: scipy in /usr/local/lib/python3.10/dist-packages (from ptitprince) (1.11.3)\n",
            "Requirement already satisfied: seaborn==0.11 in /usr/local/lib/python3.10/dist-packages (from ptitprince) (0.11.0)\n",
            "Requirement already satisfied: pandas>=0.23 in /usr/local/lib/python3.10/dist-packages (from seaborn==0.11->ptitprince) (1.5.3)\n",
            "Requirement already satisfied: contourpy>=1.0.1 in /usr/local/lib/python3.10/dist-packages (from matplotlib->ptitprince) (1.2.0)\n",
            "Requirement already satisfied: cycler>=0.10 in /usr/local/lib/python3.10/dist-packages (from matplotlib->ptitprince) (0.12.1)\n",
            "Requirement already satisfied: fonttools>=4.22.0 in /usr/local/lib/python3.10/dist-packages (from matplotlib->ptitprince) (4.44.0)\n",
            "Requirement already satisfied: kiwisolver>=1.0.1 in /usr/local/lib/python3.10/dist-packages (from matplotlib->ptitprince) (1.4.5)\n",
            "Requirement already satisfied: packaging>=20.0 in /usr/local/lib/python3.10/dist-packages (from matplotlib->ptitprince) (23.2)\n",
            "Requirement already satisfied: pillow>=6.2.0 in /usr/local/lib/python3.10/dist-packages (from matplotlib->ptitprince) (9.4.0)\n",
            "Requirement already satisfied: pyparsing>=2.3.1 in /usr/local/lib/python3.10/dist-packages (from matplotlib->ptitprince) (3.1.1)\n",
            "Requirement already satisfied: python-dateutil>=2.7 in /usr/local/lib/python3.10/dist-packages (from matplotlib->ptitprince) (2.8.2)\n",
            "Requirement already satisfied: pytz>=2020.1 in /usr/local/lib/python3.10/dist-packages (from pandas>=0.23->seaborn==0.11->ptitprince) (2023.3.post1)\n",
            "Requirement already satisfied: six>=1.5 in /usr/local/lib/python3.10/dist-packages (from python-dateutil>=2.7->matplotlib->ptitprince) (1.16.0)\n",
            "Requirement already satisfied: researchpy in /usr/local/lib/python3.10/dist-packages (0.3.5)\n",
            "Requirement already satisfied: scipy in /usr/local/lib/python3.10/dist-packages (from researchpy) (1.11.3)\n",
            "Requirement already satisfied: numpy in /usr/local/lib/python3.10/dist-packages (from researchpy) (1.23.5)\n",
            "Requirement already satisfied: pandas in /usr/local/lib/python3.10/dist-packages (from researchpy) (1.5.3)\n",
            "Requirement already satisfied: statsmodels in /usr/local/lib/python3.10/dist-packages (from researchpy) (0.14.0)\n",
            "Requirement already satisfied: patsy in /usr/local/lib/python3.10/dist-packages (from researchpy) (0.5.3)\n",
            "Requirement already satisfied: python-dateutil>=2.8.1 in /usr/local/lib/python3.10/dist-packages (from pandas->researchpy) (2.8.2)\n",
            "Requirement already satisfied: pytz>=2020.1 in /usr/local/lib/python3.10/dist-packages (from pandas->researchpy) (2023.3.post1)\n",
            "Requirement already satisfied: six in /usr/local/lib/python3.10/dist-packages (from patsy->researchpy) (1.16.0)\n",
            "Requirement already satisfied: packaging>=21.3 in /usr/local/lib/python3.10/dist-packages (from statsmodels->researchpy) (23.2)\n"
          ]
        }
      ]
    },
    {
      "cell_type": "code",
      "source": [
        "# create the dataset\n",
        "data = {\n",
        "    'Participant': list(range(1, 25)),\n",
        "    'Cloak': [0]*12 + [1]*12,\n",
        "    'Mischief': [3, 1, 5, 4, 6, 4, 6, 2, 0, 5, 4, 5, 4, 3, 6, 6, 8, 5, 5, 4, 2, 5, 7, 5]\n",
        "}\n",
        "\n",
        "df = pd.DataFrame(data)\n",
        "df.style"
      ],
      "metadata": {
        "colab": {
          "base_uri": "https://localhost:8080/",
          "height": 802
        },
        "id": "kr3jhs5g6jN4",
        "outputId": "34d06e86-dada-4051-d5df-5423829cc3df"
      },
      "execution_count": null,
      "outputs": [
        {
          "output_type": "execute_result",
          "data": {
            "text/plain": [
              "<pandas.io.formats.style.Styler at 0x7efd0ec713c0>"
            ],
            "text/html": [
              "<style type=\"text/css\">\n",
              "</style>\n",
              "<table id=\"T_4ef5b\" class=\"dataframe\">\n",
              "  <thead>\n",
              "    <tr>\n",
              "      <th class=\"blank level0\" >&nbsp;</th>\n",
              "      <th id=\"T_4ef5b_level0_col0\" class=\"col_heading level0 col0\" >Participant</th>\n",
              "      <th id=\"T_4ef5b_level0_col1\" class=\"col_heading level0 col1\" >Cloak</th>\n",
              "      <th id=\"T_4ef5b_level0_col2\" class=\"col_heading level0 col2\" >Mischief</th>\n",
              "    </tr>\n",
              "  </thead>\n",
              "  <tbody>\n",
              "    <tr>\n",
              "      <th id=\"T_4ef5b_level0_row0\" class=\"row_heading level0 row0\" >0</th>\n",
              "      <td id=\"T_4ef5b_row0_col0\" class=\"data row0 col0\" >1</td>\n",
              "      <td id=\"T_4ef5b_row0_col1\" class=\"data row0 col1\" >0</td>\n",
              "      <td id=\"T_4ef5b_row0_col2\" class=\"data row0 col2\" >3</td>\n",
              "    </tr>\n",
              "    <tr>\n",
              "      <th id=\"T_4ef5b_level0_row1\" class=\"row_heading level0 row1\" >1</th>\n",
              "      <td id=\"T_4ef5b_row1_col0\" class=\"data row1 col0\" >2</td>\n",
              "      <td id=\"T_4ef5b_row1_col1\" class=\"data row1 col1\" >0</td>\n",
              "      <td id=\"T_4ef5b_row1_col2\" class=\"data row1 col2\" >1</td>\n",
              "    </tr>\n",
              "    <tr>\n",
              "      <th id=\"T_4ef5b_level0_row2\" class=\"row_heading level0 row2\" >2</th>\n",
              "      <td id=\"T_4ef5b_row2_col0\" class=\"data row2 col0\" >3</td>\n",
              "      <td id=\"T_4ef5b_row2_col1\" class=\"data row2 col1\" >0</td>\n",
              "      <td id=\"T_4ef5b_row2_col2\" class=\"data row2 col2\" >5</td>\n",
              "    </tr>\n",
              "    <tr>\n",
              "      <th id=\"T_4ef5b_level0_row3\" class=\"row_heading level0 row3\" >3</th>\n",
              "      <td id=\"T_4ef5b_row3_col0\" class=\"data row3 col0\" >4</td>\n",
              "      <td id=\"T_4ef5b_row3_col1\" class=\"data row3 col1\" >0</td>\n",
              "      <td id=\"T_4ef5b_row3_col2\" class=\"data row3 col2\" >4</td>\n",
              "    </tr>\n",
              "    <tr>\n",
              "      <th id=\"T_4ef5b_level0_row4\" class=\"row_heading level0 row4\" >4</th>\n",
              "      <td id=\"T_4ef5b_row4_col0\" class=\"data row4 col0\" >5</td>\n",
              "      <td id=\"T_4ef5b_row4_col1\" class=\"data row4 col1\" >0</td>\n",
              "      <td id=\"T_4ef5b_row4_col2\" class=\"data row4 col2\" >6</td>\n",
              "    </tr>\n",
              "    <tr>\n",
              "      <th id=\"T_4ef5b_level0_row5\" class=\"row_heading level0 row5\" >5</th>\n",
              "      <td id=\"T_4ef5b_row5_col0\" class=\"data row5 col0\" >6</td>\n",
              "      <td id=\"T_4ef5b_row5_col1\" class=\"data row5 col1\" >0</td>\n",
              "      <td id=\"T_4ef5b_row5_col2\" class=\"data row5 col2\" >4</td>\n",
              "    </tr>\n",
              "    <tr>\n",
              "      <th id=\"T_4ef5b_level0_row6\" class=\"row_heading level0 row6\" >6</th>\n",
              "      <td id=\"T_4ef5b_row6_col0\" class=\"data row6 col0\" >7</td>\n",
              "      <td id=\"T_4ef5b_row6_col1\" class=\"data row6 col1\" >0</td>\n",
              "      <td id=\"T_4ef5b_row6_col2\" class=\"data row6 col2\" >6</td>\n",
              "    </tr>\n",
              "    <tr>\n",
              "      <th id=\"T_4ef5b_level0_row7\" class=\"row_heading level0 row7\" >7</th>\n",
              "      <td id=\"T_4ef5b_row7_col0\" class=\"data row7 col0\" >8</td>\n",
              "      <td id=\"T_4ef5b_row7_col1\" class=\"data row7 col1\" >0</td>\n",
              "      <td id=\"T_4ef5b_row7_col2\" class=\"data row7 col2\" >2</td>\n",
              "    </tr>\n",
              "    <tr>\n",
              "      <th id=\"T_4ef5b_level0_row8\" class=\"row_heading level0 row8\" >8</th>\n",
              "      <td id=\"T_4ef5b_row8_col0\" class=\"data row8 col0\" >9</td>\n",
              "      <td id=\"T_4ef5b_row8_col1\" class=\"data row8 col1\" >0</td>\n",
              "      <td id=\"T_4ef5b_row8_col2\" class=\"data row8 col2\" >0</td>\n",
              "    </tr>\n",
              "    <tr>\n",
              "      <th id=\"T_4ef5b_level0_row9\" class=\"row_heading level0 row9\" >9</th>\n",
              "      <td id=\"T_4ef5b_row9_col0\" class=\"data row9 col0\" >10</td>\n",
              "      <td id=\"T_4ef5b_row9_col1\" class=\"data row9 col1\" >0</td>\n",
              "      <td id=\"T_4ef5b_row9_col2\" class=\"data row9 col2\" >5</td>\n",
              "    </tr>\n",
              "    <tr>\n",
              "      <th id=\"T_4ef5b_level0_row10\" class=\"row_heading level0 row10\" >10</th>\n",
              "      <td id=\"T_4ef5b_row10_col0\" class=\"data row10 col0\" >11</td>\n",
              "      <td id=\"T_4ef5b_row10_col1\" class=\"data row10 col1\" >0</td>\n",
              "      <td id=\"T_4ef5b_row10_col2\" class=\"data row10 col2\" >4</td>\n",
              "    </tr>\n",
              "    <tr>\n",
              "      <th id=\"T_4ef5b_level0_row11\" class=\"row_heading level0 row11\" >11</th>\n",
              "      <td id=\"T_4ef5b_row11_col0\" class=\"data row11 col0\" >12</td>\n",
              "      <td id=\"T_4ef5b_row11_col1\" class=\"data row11 col1\" >0</td>\n",
              "      <td id=\"T_4ef5b_row11_col2\" class=\"data row11 col2\" >5</td>\n",
              "    </tr>\n",
              "    <tr>\n",
              "      <th id=\"T_4ef5b_level0_row12\" class=\"row_heading level0 row12\" >12</th>\n",
              "      <td id=\"T_4ef5b_row12_col0\" class=\"data row12 col0\" >13</td>\n",
              "      <td id=\"T_4ef5b_row12_col1\" class=\"data row12 col1\" >1</td>\n",
              "      <td id=\"T_4ef5b_row12_col2\" class=\"data row12 col2\" >4</td>\n",
              "    </tr>\n",
              "    <tr>\n",
              "      <th id=\"T_4ef5b_level0_row13\" class=\"row_heading level0 row13\" >13</th>\n",
              "      <td id=\"T_4ef5b_row13_col0\" class=\"data row13 col0\" >14</td>\n",
              "      <td id=\"T_4ef5b_row13_col1\" class=\"data row13 col1\" >1</td>\n",
              "      <td id=\"T_4ef5b_row13_col2\" class=\"data row13 col2\" >3</td>\n",
              "    </tr>\n",
              "    <tr>\n",
              "      <th id=\"T_4ef5b_level0_row14\" class=\"row_heading level0 row14\" >14</th>\n",
              "      <td id=\"T_4ef5b_row14_col0\" class=\"data row14 col0\" >15</td>\n",
              "      <td id=\"T_4ef5b_row14_col1\" class=\"data row14 col1\" >1</td>\n",
              "      <td id=\"T_4ef5b_row14_col2\" class=\"data row14 col2\" >6</td>\n",
              "    </tr>\n",
              "    <tr>\n",
              "      <th id=\"T_4ef5b_level0_row15\" class=\"row_heading level0 row15\" >15</th>\n",
              "      <td id=\"T_4ef5b_row15_col0\" class=\"data row15 col0\" >16</td>\n",
              "      <td id=\"T_4ef5b_row15_col1\" class=\"data row15 col1\" >1</td>\n",
              "      <td id=\"T_4ef5b_row15_col2\" class=\"data row15 col2\" >6</td>\n",
              "    </tr>\n",
              "    <tr>\n",
              "      <th id=\"T_4ef5b_level0_row16\" class=\"row_heading level0 row16\" >16</th>\n",
              "      <td id=\"T_4ef5b_row16_col0\" class=\"data row16 col0\" >17</td>\n",
              "      <td id=\"T_4ef5b_row16_col1\" class=\"data row16 col1\" >1</td>\n",
              "      <td id=\"T_4ef5b_row16_col2\" class=\"data row16 col2\" >8</td>\n",
              "    </tr>\n",
              "    <tr>\n",
              "      <th id=\"T_4ef5b_level0_row17\" class=\"row_heading level0 row17\" >17</th>\n",
              "      <td id=\"T_4ef5b_row17_col0\" class=\"data row17 col0\" >18</td>\n",
              "      <td id=\"T_4ef5b_row17_col1\" class=\"data row17 col1\" >1</td>\n",
              "      <td id=\"T_4ef5b_row17_col2\" class=\"data row17 col2\" >5</td>\n",
              "    </tr>\n",
              "    <tr>\n",
              "      <th id=\"T_4ef5b_level0_row18\" class=\"row_heading level0 row18\" >18</th>\n",
              "      <td id=\"T_4ef5b_row18_col0\" class=\"data row18 col0\" >19</td>\n",
              "      <td id=\"T_4ef5b_row18_col1\" class=\"data row18 col1\" >1</td>\n",
              "      <td id=\"T_4ef5b_row18_col2\" class=\"data row18 col2\" >5</td>\n",
              "    </tr>\n",
              "    <tr>\n",
              "      <th id=\"T_4ef5b_level0_row19\" class=\"row_heading level0 row19\" >19</th>\n",
              "      <td id=\"T_4ef5b_row19_col0\" class=\"data row19 col0\" >20</td>\n",
              "      <td id=\"T_4ef5b_row19_col1\" class=\"data row19 col1\" >1</td>\n",
              "      <td id=\"T_4ef5b_row19_col2\" class=\"data row19 col2\" >4</td>\n",
              "    </tr>\n",
              "    <tr>\n",
              "      <th id=\"T_4ef5b_level0_row20\" class=\"row_heading level0 row20\" >20</th>\n",
              "      <td id=\"T_4ef5b_row20_col0\" class=\"data row20 col0\" >21</td>\n",
              "      <td id=\"T_4ef5b_row20_col1\" class=\"data row20 col1\" >1</td>\n",
              "      <td id=\"T_4ef5b_row20_col2\" class=\"data row20 col2\" >2</td>\n",
              "    </tr>\n",
              "    <tr>\n",
              "      <th id=\"T_4ef5b_level0_row21\" class=\"row_heading level0 row21\" >21</th>\n",
              "      <td id=\"T_4ef5b_row21_col0\" class=\"data row21 col0\" >22</td>\n",
              "      <td id=\"T_4ef5b_row21_col1\" class=\"data row21 col1\" >1</td>\n",
              "      <td id=\"T_4ef5b_row21_col2\" class=\"data row21 col2\" >5</td>\n",
              "    </tr>\n",
              "    <tr>\n",
              "      <th id=\"T_4ef5b_level0_row22\" class=\"row_heading level0 row22\" >22</th>\n",
              "      <td id=\"T_4ef5b_row22_col0\" class=\"data row22 col0\" >23</td>\n",
              "      <td id=\"T_4ef5b_row22_col1\" class=\"data row22 col1\" >1</td>\n",
              "      <td id=\"T_4ef5b_row22_col2\" class=\"data row22 col2\" >7</td>\n",
              "    </tr>\n",
              "    <tr>\n",
              "      <th id=\"T_4ef5b_level0_row23\" class=\"row_heading level0 row23\" >23</th>\n",
              "      <td id=\"T_4ef5b_row23_col0\" class=\"data row23 col0\" >24</td>\n",
              "      <td id=\"T_4ef5b_row23_col1\" class=\"data row23 col1\" >1</td>\n",
              "      <td id=\"T_4ef5b_row23_col2\" class=\"data row23 col2\" >5</td>\n",
              "    </tr>\n",
              "  </tbody>\n",
              "</table>\n"
            ]
          },
          "metadata": {},
          "execution_count": 72
        }
      ]
    },
    {
      "cell_type": "markdown",
      "source": [
        "### **Assumption Check**\n",
        "Before the t-test can be interpreted, one needs to test the assumptions to consider the results as valid."
      ],
      "metadata": {
        "id": "RfoQtdYy9IzT"
      }
    },
    {
      "cell_type": "markdown",
      "source": [
        "**Assumption 1.** The dependent variable (Mischief) is a *continuous* level.\n",
        "\n",
        "**Assumption 2.** The independent variable (Cloak) consists of two *categorical*, independent\n",
        "groups (With a cloak, Without a cloak).\n",
        "\n",
        "**Assumption 3.** Each participant is present to only one group."
      ],
      "metadata": {
        "id": "GGYZlDaPDqaj"
      }
    },
    {
      "cell_type": "code",
      "source": [
        "# creating the raincloud plot\n",
        "plt.figure(figsize=(10, 6))\n",
        "\n",
        "pt.RainCloud(x='Cloak', y='Mischief', data=df, palette=\"Set2\")\n",
        "\n",
        "plt.xticks([0, 1], ['Without a cloak', 'With a cloak'])\n",
        "plt.title(\"Raincloud Plot - Invisibility Cloak Dataset\")\n",
        "plt.xlabel(\"Cloak\")\n",
        "plt.ylabel(\"Mischief\")\n",
        "\n",
        "plt.show()"
      ],
      "metadata": {
        "colab": {
          "base_uri": "https://localhost:8080/",
          "height": 573
        },
        "id": "6k6xgz0YTRLR",
        "outputId": "81085d89-6ca3-414b-8526-d1d2d6ab0c2c"
      },
      "execution_count": null,
      "outputs": [
        {
          "output_type": "display_data",
          "data": {
            "text/plain": [
              "<Figure size 1000x600 with 1 Axes>"
            ],
            "image/png": "[encoded data removed]"
          },
          "metadata": {}
        }
      ]
    },
    {
      "cell_type": "markdown",
      "source": [
        "**Assumption 4. Outliers** There are *no significant outliers* in the two groups of independent variable (Cloak) in terms of the dependent variable (Mischief), as assessed by visual inspection of boxplots."
      ],
      "metadata": {
        "id": "5OKBr-KsWYBa"
      }
    },
    {
      "cell_type": "markdown",
      "source": [
        "**Assumption 5. Normality.** The dependent variable (Mischief) for each group (Cloak) is normally distributed (p > 0.05), as assessed by Shapiro-Wilk test."
      ],
      "metadata": {
        "id": "87ayt_PZOsaq"
      }
    },
    {
      "cell_type": "code",
      "source": [
        "# checking the normality assumption for each group using Shapiro-Wilk test\n",
        "group_0 = df[df['Cloak'] == 0]['Mischief']\n",
        "group_1 = df[df['Cloak'] == 1]['Mischief']\n",
        "\n",
        "shapiro_0 = stats.shapiro(group_0)\n",
        "shapiro_1 = stats.shapiro(group_1)\n",
        "\n",
        "# creating a table for the Shapiro-Wilk test results\n",
        "results = pd.DataFrame({'Mischief': ['Without a cloak', 'With a cloak'],\n",
        "                        'W-statistic': [shapiro_0.statistic, shapiro_1.statistic],\n",
        "                       'p-value': [shapiro_0.pvalue, shapiro_1.pvalue]})\n",
        "\n",
        "print(\"\\nTest of Normality (Shapiro-Wilk)\")\n",
        "\n",
        "results.style"
      ],
      "metadata": {
        "colab": {
          "base_uri": "https://localhost:8080/",
          "height": 147
        },
        "id": "HSjxppffWbfA",
        "outputId": "d55f11e9-b772-4d54-aad7-91e7a07e220e"
      },
      "execution_count": null,
      "outputs": [
        {
          "output_type": "stream",
          "name": "stdout",
          "text": [
            "\n",
            "Test of Normality (Shapiro-Wilk)\n"
          ]
        },
        {
          "output_type": "execute_result",
          "data": {
            "text/plain": [
              "<pandas.io.formats.style.Styler at 0x7efd0e8742e0>"
            ],
            "text/html": [
              "<style type=\"text/css\">\n",
              "</style>\n",
              "<table id=\"T_31a1b\" class=\"dataframe\">\n",
              "  <thead>\n",
              "    <tr>\n",
              "      <th class=\"blank level0\" >&nbsp;</th>\n",
              "      <th id=\"T_31a1b_level0_col0\" class=\"col_heading level0 col0\" >Mischief</th>\n",
              "      <th id=\"T_31a1b_level0_col1\" class=\"col_heading level0 col1\" >W-statistic</th>\n",
              "      <th id=\"T_31a1b_level0_col2\" class=\"col_heading level0 col2\" >p-value</th>\n",
              "    </tr>\n",
              "  </thead>\n",
              "  <tbody>\n",
              "    <tr>\n",
              "      <th id=\"T_31a1b_level0_row0\" class=\"row_heading level0 row0\" >0</th>\n",
              "      <td id=\"T_31a1b_row0_col0\" class=\"data row0 col0\" >Without a cloak</td>\n",
              "      <td id=\"T_31a1b_row0_col1\" class=\"data row0 col1\" >0.912764</td>\n",
              "      <td id=\"T_31a1b_row0_col2\" class=\"data row0 col2\" >0.231446</td>\n",
              "    </tr>\n",
              "    <tr>\n",
              "      <th id=\"T_31a1b_level0_row1\" class=\"row_heading level0 row1\" >1</th>\n",
              "      <td id=\"T_31a1b_row1_col0\" class=\"data row1 col0\" >With a cloak</td>\n",
              "      <td id=\"T_31a1b_row1_col1\" class=\"data row1 col1\" >0.972617</td>\n",
              "      <td id=\"T_31a1b_row1_col2\" class=\"data row1 col2\" >0.936188</td>\n",
              "    </tr>\n",
              "  </tbody>\n",
              "</table>\n"
            ]
          },
          "metadata": {},
          "execution_count": 122
        }
      ]
    },
    {
      "cell_type": "markdown",
      "source": [
        "*Note.* Significant results suggest a deviation from normality."
      ],
      "metadata": {
        "id": "hYm4aoNxoNe7"
      }
    },
    {
      "cell_type": "markdown",
      "source": [
        "**Assumption 6. Homogeneity of variances.** There is equality of variances between groups (Without a cloak, With a cloak) on their number of mischievous acts (Mischief), as assessed by Levene’s test of equality of variances.\n"
      ],
      "metadata": {
        "id": "beOj-yHtZEJ1"
      }
    },
    {
      "cell_type": "code",
      "source": [
        "# fit the model\n",
        "model = ols('Mischief ~ C(Cloak)', data=df).fit()\n",
        "\n",
        "# perform ANOVA and get the results\n",
        "anova_results = anova_lm(model)\n",
        "\n",
        "# create a dictionary with the results\n",
        "results = {\n",
        "    'Source': ['Mischief'],\n",
        "    'F-value': anova_results['F'][0],\n",
        "    'df': anova_results['df'][0],\n",
        "    'p-value': anova_results['PR(>F)'][0]\n",
        "}\n",
        "\n",
        "# create a DataFrame with the results\n",
        "results_df = pd.DataFrame(results)\n",
        "\n",
        "# print the DataFrame\n",
        "results_df.style"
      ],
      "metadata": {
        "colab": {
          "base_uri": "https://localhost:8080/",
          "height": 81
        },
        "id": "UL1ye-fSqSS0",
        "outputId": "3af51451-ef6e-48a3-c3f1-d7a3e61181c0"
      },
      "execution_count": null,
      "outputs": [
        {
          "output_type": "execute_result",
          "data": {
            "text/plain": [
              "<pandas.io.formats.style.Styler at 0x7efd0ec704f0>"
            ],
            "text/html": [
              "<style type=\"text/css\">\n",
              "</style>\n",
              "<table id=\"T_2c51d\" class=\"dataframe\">\n",
              "  <thead>\n",
              "    <tr>\n",
              "      <th class=\"blank level0\" >&nbsp;</th>\n",
              "      <th id=\"T_2c51d_level0_col0\" class=\"col_heading level0 col0\" >Source</th>\n",
              "      <th id=\"T_2c51d_level0_col1\" class=\"col_heading level0 col1\" >F-value</th>\n",
              "      <th id=\"T_2c51d_level0_col2\" class=\"col_heading level0 col2\" >df</th>\n",
              "      <th id=\"T_2c51d_level0_col3\" class=\"col_heading level0 col3\" >p-value</th>\n",
              "    </tr>\n",
              "  </thead>\n",
              "  <tbody>\n",
              "    <tr>\n",
              "      <th id=\"T_2c51d_level0_row0\" class=\"row_heading level0 row0\" >0</th>\n",
              "      <td id=\"T_2c51d_row0_col0\" class=\"data row0 col0\" >Mischief</td>\n",
              "      <td id=\"T_2c51d_row0_col1\" class=\"data row0 col1\" >2.935943</td>\n",
              "      <td id=\"T_2c51d_row0_col2\" class=\"data row0 col2\" >1.000000</td>\n",
              "      <td id=\"T_2c51d_row0_col3\" class=\"data row0 col3\" >0.100686</td>\n",
              "    </tr>\n",
              "  </tbody>\n",
              "</table>\n"
            ]
          },
          "metadata": {},
          "execution_count": 124
        }
      ]
    },
    {
      "cell_type": "markdown",
      "source": [
        "### **Computation**"
      ],
      "metadata": {
        "id": "06PQmgUUe1io"
      }
    },
    {
      "cell_type": "markdown",
      "source": [
        "**the summary statistical information**"
      ],
      "metadata": {
        "id": "oKNja0kuy2MV"
      }
    },
    {
      "cell_type": "code",
      "source": [
        "group_0 = df[df['Cloak'] == 0]['Mischief']\n",
        "group_1 = df[df['Cloak'] == 1]['Mischief']\n",
        "\n",
        "# summary and results information\n",
        "summary, results = rp.ttest(group_0, group_1)\n",
        "\n",
        "# print the summary\n",
        "summary.style"
      ],
      "metadata": {
        "colab": {
          "base_uri": "https://localhost:8080/",
          "height": 198
        },
        "id": "VuDhfwv1u10P",
        "outputId": "ab18b4ec-c170-41be-bc07-92c393701e0d"
      },
      "execution_count": null,
      "outputs": [
        {
          "output_type": "stream",
          "name": "stderr",
          "text": [
            "/usr/local/lib/python3.10/dist-packages/researchpy/ttest.py:38: FutureWarning: The series.append method is deprecated and will be removed from pandas in a future version. Use pandas.concat instead.\n",
            "  groups = group1.append(group2, ignore_index= True)\n"
          ]
        },
        {
          "output_type": "execute_result",
          "data": {
            "text/plain": [
              "<pandas.io.formats.style.Styler at 0x7efd0eb56800>"
            ],
            "text/html": [
              "<style type=\"text/css\">\n",
              "</style>\n",
              "<table id=\"T_47512\" class=\"dataframe\">\n",
              "  <thead>\n",
              "    <tr>\n",
              "      <th class=\"blank level0\" >&nbsp;</th>\n",
              "      <th id=\"T_47512_level0_col0\" class=\"col_heading level0 col0\" >Variable</th>\n",
              "      <th id=\"T_47512_level0_col1\" class=\"col_heading level0 col1\" >N</th>\n",
              "      <th id=\"T_47512_level0_col2\" class=\"col_heading level0 col2\" >Mean</th>\n",
              "      <th id=\"T_47512_level0_col3\" class=\"col_heading level0 col3\" >SD</th>\n",
              "      <th id=\"T_47512_level0_col4\" class=\"col_heading level0 col4\" >SE</th>\n",
              "      <th id=\"T_47512_level0_col5\" class=\"col_heading level0 col5\" >95% Conf.</th>\n",
              "      <th id=\"T_47512_level0_col6\" class=\"col_heading level0 col6\" >Interval</th>\n",
              "    </tr>\n",
              "  </thead>\n",
              "  <tbody>\n",
              "    <tr>\n",
              "      <th id=\"T_47512_level0_row0\" class=\"row_heading level0 row0\" >0</th>\n",
              "      <td id=\"T_47512_row0_col0\" class=\"data row0 col0\" >Mischief</td>\n",
              "      <td id=\"T_47512_row0_col1\" class=\"data row0 col1\" >12.000000</td>\n",
              "      <td id=\"T_47512_row0_col2\" class=\"data row0 col2\" >3.750000</td>\n",
              "      <td id=\"T_47512_row0_col3\" class=\"data row0 col3\" >1.912875</td>\n",
              "      <td id=\"T_47512_row0_col4\" class=\"data row0 col4\" >0.552199</td>\n",
              "      <td id=\"T_47512_row0_col5\" class=\"data row0 col5\" >2.534617</td>\n",
              "      <td id=\"T_47512_row0_col6\" class=\"data row0 col6\" >4.965383</td>\n",
              "    </tr>\n",
              "    <tr>\n",
              "      <th id=\"T_47512_level0_row1\" class=\"row_heading level0 row1\" >1</th>\n",
              "      <td id=\"T_47512_row1_col0\" class=\"data row1 col0\" >Mischief</td>\n",
              "      <td id=\"T_47512_row1_col1\" class=\"data row1 col1\" >12.000000</td>\n",
              "      <td id=\"T_47512_row1_col2\" class=\"data row1 col2\" >5.000000</td>\n",
              "      <td id=\"T_47512_row1_col3\" class=\"data row1 col3\" >1.651446</td>\n",
              "      <td id=\"T_47512_row1_col4\" class=\"data row1 col4\" >0.476731</td>\n",
              "      <td id=\"T_47512_row1_col5\" class=\"data row1 col5\" >3.950721</td>\n",
              "      <td id=\"T_47512_row1_col6\" class=\"data row1 col6\" >6.049279</td>\n",
              "    </tr>\n",
              "    <tr>\n",
              "      <th id=\"T_47512_level0_row2\" class=\"row_heading level0 row2\" >2</th>\n",
              "      <td id=\"T_47512_row2_col0\" class=\"data row2 col0\" >combined</td>\n",
              "      <td id=\"T_47512_row2_col1\" class=\"data row2 col1\" >24.000000</td>\n",
              "      <td id=\"T_47512_row2_col2\" class=\"data row2 col2\" >4.375000</td>\n",
              "      <td id=\"T_47512_row2_col3\" class=\"data row2 col3\" >1.860633</td>\n",
              "      <td id=\"T_47512_row2_col4\" class=\"data row2 col4\" >0.379800</td>\n",
              "      <td id=\"T_47512_row2_col5\" class=\"data row2 col5\" >3.589323</td>\n",
              "      <td id=\"T_47512_row2_col6\" class=\"data row2 col6\" >5.160677</td>\n",
              "    </tr>\n",
              "  </tbody>\n",
              "</table>\n"
            ]
          },
          "metadata": {},
          "execution_count": 139
        }
      ]
    },
    {
      "cell_type": "markdown",
      "source": [
        "**the statistical test information**"
      ],
      "metadata": {
        "id": "kW1KsUNTy5pZ"
      }
    },
    {
      "cell_type": "code",
      "source": [
        "# define the two groups of data\n",
        "group_0 = [3, 1, 5, 4, 6, 4, 6, 2, 0, 5, 4, 5]\n",
        "group_1 = [4, 3, 6, 6, 8, 5, 5, 4, 2, 5, 7, 5]\n",
        "\n",
        "# perform independent samples t-test\n",
        "t_statistic, p_value = ttest_ind(group_0, group_1)\n",
        "\n",
        "# calculate mean difference\n",
        "mean_difference = np.mean(group_0) - np.mean(group_1)\n",
        "\n",
        "# calculate standard error of the difference\n",
        "se_difference = np.sqrt(np.var(group_0, ddof = 1)/len(group_0) + np.var(group_1,ddof = 1)/len(group_1))\n",
        "\n",
        "# calculate 95% CI for mean difference\n",
        "ci_lower = mean_difference - 1.96 * se_difference\n",
        "ci_upper = mean_difference + 1.96 * se_difference\n",
        "\n",
        "# create a dictionary with the results\n",
        "results = {\n",
        "    't': [t_statistic],\n",
        "    'df': [len(group_0) + len(group_1) - 2],\n",
        "    'p-value': [p_value],\n",
        "    'Mean Difference': [mean_difference],\n",
        "    'SE Difference': [se_difference],\n",
        "    '95% CI (Lower)': [ci_lower],\n",
        "    '95% CI (Upper)': [ci_upper]\n",
        "}\n",
        "\n",
        "# create a dataframe from the dictionary\n",
        "df_results = pd.DataFrame(results)\n",
        "\n",
        "# format float of the dataframe\n",
        "df_results.style.format(\"{:,.3f}\")"
      ],
      "metadata": {
        "colab": {
          "base_uri": "https://localhost:8080/",
          "height": 81
        },
        "id": "6SiXCUzrhJt9",
        "outputId": "0205c47c-0717-4f87-8822-9c81f5154ac9"
      },
      "execution_count": null,
      "outputs": [
        {
          "output_type": "execute_result",
          "data": {
            "text/plain": [
              "<pandas.io.formats.style.Styler at 0x7efd0ed222f0>"
            ],
            "text/html": [
              "<style type=\"text/css\">\n",
              "</style>\n",
              "<table id=\"T_5c962\" class=\"dataframe\">\n",
              "  <thead>\n",
              "    <tr>\n",
              "      <th class=\"blank level0\" >&nbsp;</th>\n",
              "      <th id=\"T_5c962_level0_col0\" class=\"col_heading level0 col0\" >t</th>\n",
              "      <th id=\"T_5c962_level0_col1\" class=\"col_heading level0 col1\" >df</th>\n",
              "      <th id=\"T_5c962_level0_col2\" class=\"col_heading level0 col2\" >p-value</th>\n",
              "      <th id=\"T_5c962_level0_col3\" class=\"col_heading level0 col3\" >Mean Difference</th>\n",
              "      <th id=\"T_5c962_level0_col4\" class=\"col_heading level0 col4\" >SE Difference</th>\n",
              "      <th id=\"T_5c962_level0_col5\" class=\"col_heading level0 col5\" >95% CI (Lower)</th>\n",
              "      <th id=\"T_5c962_level0_col6\" class=\"col_heading level0 col6\" >95% CI (Upper)</th>\n",
              "    </tr>\n",
              "  </thead>\n",
              "  <tbody>\n",
              "    <tr>\n",
              "      <th id=\"T_5c962_level0_row0\" class=\"row_heading level0 row0\" >0</th>\n",
              "      <td id=\"T_5c962_row0_col0\" class=\"data row0 col0\" >-1.713</td>\n",
              "      <td id=\"T_5c962_row0_col1\" class=\"data row0 col1\" >22.000</td>\n",
              "      <td id=\"T_5c962_row0_col2\" class=\"data row0 col2\" >0.101</td>\n",
              "      <td id=\"T_5c962_row0_col3\" class=\"data row0 col3\" >-1.250</td>\n",
              "      <td id=\"T_5c962_row0_col4\" class=\"data row0 col4\" >0.730</td>\n",
              "      <td id=\"T_5c962_row0_col5\" class=\"data row0 col5\" >-2.680</td>\n",
              "      <td id=\"T_5c962_row0_col6\" class=\"data row0 col6\" >0.180</td>\n",
              "    </tr>\n",
              "  </tbody>\n",
              "</table>\n"
            ]
          },
          "metadata": {},
          "execution_count": 133
        }
      ]
    },
    {
      "cell_type": "markdown",
      "source": [
        "### **Presenting the results**"
      ],
      "metadata": {
        "id": "ScZ2m-J0zDWK"
      }
    },
    {
      "cell_type": "markdown",
      "source": [
        "The mean of mischievous acts committed was signigicantly greater for people with invisibility cloak (M = 5.00, SD =\t1.65, n = 12) than for people without invisibility cloak (M = 3.75,\tSD = 1.91, n = 12), t(46) = -1.713, p = 0.101, d = -1.250, 95% CI [-2.68 0.18]."
      ],
      "metadata": {
        "id": "n2oB69OsvJva"
      }
    }
  ]
}