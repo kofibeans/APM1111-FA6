{
  "nbformat": 4,
  "nbformat_minor": 0,
  "metadata": {
    "colab": {
      "provenance": [],
      "authorship_tag": "ABX9TyP3y/S8ACqrhT0sizhUVhYk",
      "include_colab_link": true
    },
    "kernelspec": {
      "name": "python3",
      "display_name": "Python 3"
    },
    "language_info": {
      "name": "python"
    }
  },
  "cells": [
    {
      "cell_type": "markdown",
      "metadata": {
        "id": "view-in-github",
        "colab_type": "text"
      },
      "source": [
        "<a href=\"https://colab.research.google.com/github/kofibeans/APM1111-FA6/blob/main/Aquino_APM1111_FA6.ipynb\" target=\"_parent\"><img src=\"https://colab.research.google.com/assets/colab-badge.svg\" alt=\"Open In Colab\"/></a>"
      ]
    },
    {
      "cell_type": "markdown",
      "source": [
        "### **APM1111 Formative Assessment 6**\n",
        "\n",
        "**Instruction**\n",
        "\n",
        "Provide an R or Python (with markdown) file for the independent samples t-test for Invisibility Cloak data set.\n",
        "\n",
        "*   The file should have all the codes/and or explanations from Assumption 1 to 5 and computation.\n",
        "*   Present the results of the analysis by making a short report."
      ],
      "metadata": {
        "id": "aQrIqhnW3TtN"
      }
    },
    {
      "cell_type": "markdown",
      "source": [
        "### **Import Library and Dataset**\n",
        "Import couple of Python library required for the analysis and create the dataset."
      ],
      "metadata": {
        "id": "wR7BmwcG3u11"
      }
    },
    {
      "cell_type": "code",
      "source": [
        "# import library\n",
        "import pandas as pd # data processing, csv file i/o (e.g. pd.read_csv)\n",
        "import scipy.stats as stats # statistical operations\n",
        "\n",
        "from IPython.display import display # visualization tool\n",
        "\n",
        "!pip install researchpy\n",
        "import researchpy as rp # statistical operations"
      ],
      "metadata": {
        "colab": {
          "base_uri": "https://localhost:8080/"
        },
        "id": "BIBhE5dx5sOF",
        "outputId": "dd1c382f-8c5e-47cc-926e-147d26061ffe"
      },
      "execution_count": null,
      "outputs": [
        {
          "output_type": "stream",
          "name": "stdout",
          "text": [
            "Collecting researchpy\n",
            "  Downloading researchpy-0.3.5-py3-none-any.whl (33 kB)\n",
            "Requirement already satisfied: scipy in /usr/local/lib/python3.10/dist-packages (from researchpy) (1.11.3)\n",
            "Requirement already satisfied: numpy in /usr/local/lib/python3.10/dist-packages (from researchpy) (1.23.5)\n",
            "Requirement already satisfied: pandas in /usr/local/lib/python3.10/dist-packages (from researchpy) (1.5.3)\n",
            "Requirement already satisfied: statsmodels in /usr/local/lib/python3.10/dist-packages (from researchpy) (0.14.0)\n",
            "Requirement already satisfied: patsy in /usr/local/lib/python3.10/dist-packages (from researchpy) (0.5.3)\n",
            "Requirement already satisfied: python-dateutil>=2.8.1 in /usr/local/lib/python3.10/dist-packages (from pandas->researchpy) (2.8.2)\n",
            "Requirement already satisfied: pytz>=2020.1 in /usr/local/lib/python3.10/dist-packages (from pandas->researchpy) (2023.3.post1)\n",
            "Requirement already satisfied: six in /usr/local/lib/python3.10/dist-packages (from patsy->researchpy) (1.16.0)\n",
            "Requirement already satisfied: packaging>=21.3 in /usr/local/lib/python3.10/dist-packages (from statsmodels->researchpy) (23.2)\n",
            "Installing collected packages: researchpy\n",
            "Successfully installed researchpy-0.3.5\n"
          ]
        }
      ]
    },
    {
      "cell_type": "code",
      "source": [
        "# create the dataset\n",
        "data = {\n",
        "    'Participant': list(range(1, 25)),\n",
        "    'Cloak': [0]*12 + [1]*12,\n",
        "    'Mischief': [3, 1, 5, 4, 6, 4, 6, 2, 0, 5, 4, 5, 4, 3, 6, 6, 8, 5, 5, 4, 2, 5, 7, 5]\n",
        "}\n",
        "\n",
        "df = pd.DataFrame(data)\n",
        "df.style"
      ],
      "metadata": {
        "colab": {
          "base_uri": "https://localhost:8080/",
          "height": 802
        },
        "id": "kr3jhs5g6jN4",
        "outputId": "d2da8650-2783-4169-d7c4-bb79efa1da2a"
      },
      "execution_count": null,
      "outputs": [
        {
          "output_type": "execute_result",
          "data": {
            "text/plain": [
              "<pandas.io.formats.style.Styler at 0x785872b131f0>"
            ],
            "text/html": [
              "<style type=\"text/css\">\n",
              "</style>\n",
              "<table id=\"T_4052a\" class=\"dataframe\">\n",
              "  <thead>\n",
              "    <tr>\n",
              "      <th class=\"blank level0\" >&nbsp;</th>\n",
              "      <th id=\"T_4052a_level0_col0\" class=\"col_heading level0 col0\" >Participant</th>\n",
              "      <th id=\"T_4052a_level0_col1\" class=\"col_heading level0 col1\" >Cloak</th>\n",
              "      <th id=\"T_4052a_level0_col2\" class=\"col_heading level0 col2\" >Mischief</th>\n",
              "    </tr>\n",
              "  </thead>\n",
              "  <tbody>\n",
              "    <tr>\n",
              "      <th id=\"T_4052a_level0_row0\" class=\"row_heading level0 row0\" >0</th>\n",
              "      <td id=\"T_4052a_row0_col0\" class=\"data row0 col0\" >1</td>\n",
              "      <td id=\"T_4052a_row0_col1\" class=\"data row0 col1\" >0</td>\n",
              "      <td id=\"T_4052a_row0_col2\" class=\"data row0 col2\" >3</td>\n",
              "    </tr>\n",
              "    <tr>\n",
              "      <th id=\"T_4052a_level0_row1\" class=\"row_heading level0 row1\" >1</th>\n",
              "      <td id=\"T_4052a_row1_col0\" class=\"data row1 col0\" >2</td>\n",
              "      <td id=\"T_4052a_row1_col1\" class=\"data row1 col1\" >0</td>\n",
              "      <td id=\"T_4052a_row1_col2\" class=\"data row1 col2\" >1</td>\n",
              "    </tr>\n",
              "    <tr>\n",
              "      <th id=\"T_4052a_level0_row2\" class=\"row_heading level0 row2\" >2</th>\n",
              "      <td id=\"T_4052a_row2_col0\" class=\"data row2 col0\" >3</td>\n",
              "      <td id=\"T_4052a_row2_col1\" class=\"data row2 col1\" >0</td>\n",
              "      <td id=\"T_4052a_row2_col2\" class=\"data row2 col2\" >5</td>\n",
              "    </tr>\n",
              "    <tr>\n",
              "      <th id=\"T_4052a_level0_row3\" class=\"row_heading level0 row3\" >3</th>\n",
              "      <td id=\"T_4052a_row3_col0\" class=\"data row3 col0\" >4</td>\n",
              "      <td id=\"T_4052a_row3_col1\" class=\"data row3 col1\" >0</td>\n",
              "      <td id=\"T_4052a_row3_col2\" class=\"data row3 col2\" >4</td>\n",
              "    </tr>\n",
              "    <tr>\n",
              "      <th id=\"T_4052a_level0_row4\" class=\"row_heading level0 row4\" >4</th>\n",
              "      <td id=\"T_4052a_row4_col0\" class=\"data row4 col0\" >5</td>\n",
              "      <td id=\"T_4052a_row4_col1\" class=\"data row4 col1\" >0</td>\n",
              "      <td id=\"T_4052a_row4_col2\" class=\"data row4 col2\" >6</td>\n",
              "    </tr>\n",
              "    <tr>\n",
              "      <th id=\"T_4052a_level0_row5\" class=\"row_heading level0 row5\" >5</th>\n",
              "      <td id=\"T_4052a_row5_col0\" class=\"data row5 col0\" >6</td>\n",
              "      <td id=\"T_4052a_row5_col1\" class=\"data row5 col1\" >0</td>\n",
              "      <td id=\"T_4052a_row5_col2\" class=\"data row5 col2\" >4</td>\n",
              "    </tr>\n",
              "    <tr>\n",
              "      <th id=\"T_4052a_level0_row6\" class=\"row_heading level0 row6\" >6</th>\n",
              "      <td id=\"T_4052a_row6_col0\" class=\"data row6 col0\" >7</td>\n",
              "      <td id=\"T_4052a_row6_col1\" class=\"data row6 col1\" >0</td>\n",
              "      <td id=\"T_4052a_row6_col2\" class=\"data row6 col2\" >6</td>\n",
              "    </tr>\n",
              "    <tr>\n",
              "      <th id=\"T_4052a_level0_row7\" class=\"row_heading level0 row7\" >7</th>\n",
              "      <td id=\"T_4052a_row7_col0\" class=\"data row7 col0\" >8</td>\n",
              "      <td id=\"T_4052a_row7_col1\" class=\"data row7 col1\" >0</td>\n",
              "      <td id=\"T_4052a_row7_col2\" class=\"data row7 col2\" >2</td>\n",
              "    </tr>\n",
              "    <tr>\n",
              "      <th id=\"T_4052a_level0_row8\" class=\"row_heading level0 row8\" >8</th>\n",
              "      <td id=\"T_4052a_row8_col0\" class=\"data row8 col0\" >9</td>\n",
              "      <td id=\"T_4052a_row8_col1\" class=\"data row8 col1\" >0</td>\n",
              "      <td id=\"T_4052a_row8_col2\" class=\"data row8 col2\" >0</td>\n",
              "    </tr>\n",
              "    <tr>\n",
              "      <th id=\"T_4052a_level0_row9\" class=\"row_heading level0 row9\" >9</th>\n",
              "      <td id=\"T_4052a_row9_col0\" class=\"data row9 col0\" >10</td>\n",
              "      <td id=\"T_4052a_row9_col1\" class=\"data row9 col1\" >0</td>\n",
              "      <td id=\"T_4052a_row9_col2\" class=\"data row9 col2\" >5</td>\n",
              "    </tr>\n",
              "    <tr>\n",
              "      <th id=\"T_4052a_level0_row10\" class=\"row_heading level0 row10\" >10</th>\n",
              "      <td id=\"T_4052a_row10_col0\" class=\"data row10 col0\" >11</td>\n",
              "      <td id=\"T_4052a_row10_col1\" class=\"data row10 col1\" >0</td>\n",
              "      <td id=\"T_4052a_row10_col2\" class=\"data row10 col2\" >4</td>\n",
              "    </tr>\n",
              "    <tr>\n",
              "      <th id=\"T_4052a_level0_row11\" class=\"row_heading level0 row11\" >11</th>\n",
              "      <td id=\"T_4052a_row11_col0\" class=\"data row11 col0\" >12</td>\n",
              "      <td id=\"T_4052a_row11_col1\" class=\"data row11 col1\" >0</td>\n",
              "      <td id=\"T_4052a_row11_col2\" class=\"data row11 col2\" >5</td>\n",
              "    </tr>\n",
              "    <tr>\n",
              "      <th id=\"T_4052a_level0_row12\" class=\"row_heading level0 row12\" >12</th>\n",
              "      <td id=\"T_4052a_row12_col0\" class=\"data row12 col0\" >13</td>\n",
              "      <td id=\"T_4052a_row12_col1\" class=\"data row12 col1\" >1</td>\n",
              "      <td id=\"T_4052a_row12_col2\" class=\"data row12 col2\" >4</td>\n",
              "    </tr>\n",
              "    <tr>\n",
              "      <th id=\"T_4052a_level0_row13\" class=\"row_heading level0 row13\" >13</th>\n",
              "      <td id=\"T_4052a_row13_col0\" class=\"data row13 col0\" >14</td>\n",
              "      <td id=\"T_4052a_row13_col1\" class=\"data row13 col1\" >1</td>\n",
              "      <td id=\"T_4052a_row13_col2\" class=\"data row13 col2\" >3</td>\n",
              "    </tr>\n",
              "    <tr>\n",
              "      <th id=\"T_4052a_level0_row14\" class=\"row_heading level0 row14\" >14</th>\n",
              "      <td id=\"T_4052a_row14_col0\" class=\"data row14 col0\" >15</td>\n",
              "      <td id=\"T_4052a_row14_col1\" class=\"data row14 col1\" >1</td>\n",
              "      <td id=\"T_4052a_row14_col2\" class=\"data row14 col2\" >6</td>\n",
              "    </tr>\n",
              "    <tr>\n",
              "      <th id=\"T_4052a_level0_row15\" class=\"row_heading level0 row15\" >15</th>\n",
              "      <td id=\"T_4052a_row15_col0\" class=\"data row15 col0\" >16</td>\n",
              "      <td id=\"T_4052a_row15_col1\" class=\"data row15 col1\" >1</td>\n",
              "      <td id=\"T_4052a_row15_col2\" class=\"data row15 col2\" >6</td>\n",
              "    </tr>\n",
              "    <tr>\n",
              "      <th id=\"T_4052a_level0_row16\" class=\"row_heading level0 row16\" >16</th>\n",
              "      <td id=\"T_4052a_row16_col0\" class=\"data row16 col0\" >17</td>\n",
              "      <td id=\"T_4052a_row16_col1\" class=\"data row16 col1\" >1</td>\n",
              "      <td id=\"T_4052a_row16_col2\" class=\"data row16 col2\" >8</td>\n",
              "    </tr>\n",
              "    <tr>\n",
              "      <th id=\"T_4052a_level0_row17\" class=\"row_heading level0 row17\" >17</th>\n",
              "      <td id=\"T_4052a_row17_col0\" class=\"data row17 col0\" >18</td>\n",
              "      <td id=\"T_4052a_row17_col1\" class=\"data row17 col1\" >1</td>\n",
              "      <td id=\"T_4052a_row17_col2\" class=\"data row17 col2\" >5</td>\n",
              "    </tr>\n",
              "    <tr>\n",
              "      <th id=\"T_4052a_level0_row18\" class=\"row_heading level0 row18\" >18</th>\n",
              "      <td id=\"T_4052a_row18_col0\" class=\"data row18 col0\" >19</td>\n",
              "      <td id=\"T_4052a_row18_col1\" class=\"data row18 col1\" >1</td>\n",
              "      <td id=\"T_4052a_row18_col2\" class=\"data row18 col2\" >5</td>\n",
              "    </tr>\n",
              "    <tr>\n",
              "      <th id=\"T_4052a_level0_row19\" class=\"row_heading level0 row19\" >19</th>\n",
              "      <td id=\"T_4052a_row19_col0\" class=\"data row19 col0\" >20</td>\n",
              "      <td id=\"T_4052a_row19_col1\" class=\"data row19 col1\" >1</td>\n",
              "      <td id=\"T_4052a_row19_col2\" class=\"data row19 col2\" >4</td>\n",
              "    </tr>\n",
              "    <tr>\n",
              "      <th id=\"T_4052a_level0_row20\" class=\"row_heading level0 row20\" >20</th>\n",
              "      <td id=\"T_4052a_row20_col0\" class=\"data row20 col0\" >21</td>\n",
              "      <td id=\"T_4052a_row20_col1\" class=\"data row20 col1\" >1</td>\n",
              "      <td id=\"T_4052a_row20_col2\" class=\"data row20 col2\" >2</td>\n",
              "    </tr>\n",
              "    <tr>\n",
              "      <th id=\"T_4052a_level0_row21\" class=\"row_heading level0 row21\" >21</th>\n",
              "      <td id=\"T_4052a_row21_col0\" class=\"data row21 col0\" >22</td>\n",
              "      <td id=\"T_4052a_row21_col1\" class=\"data row21 col1\" >1</td>\n",
              "      <td id=\"T_4052a_row21_col2\" class=\"data row21 col2\" >5</td>\n",
              "    </tr>\n",
              "    <tr>\n",
              "      <th id=\"T_4052a_level0_row22\" class=\"row_heading level0 row22\" >22</th>\n",
              "      <td id=\"T_4052a_row22_col0\" class=\"data row22 col0\" >23</td>\n",
              "      <td id=\"T_4052a_row22_col1\" class=\"data row22 col1\" >1</td>\n",
              "      <td id=\"T_4052a_row22_col2\" class=\"data row22 col2\" >7</td>\n",
              "    </tr>\n",
              "    <tr>\n",
              "      <th id=\"T_4052a_level0_row23\" class=\"row_heading level0 row23\" >23</th>\n",
              "      <td id=\"T_4052a_row23_col0\" class=\"data row23 col0\" >24</td>\n",
              "      <td id=\"T_4052a_row23_col1\" class=\"data row23 col1\" >1</td>\n",
              "      <td id=\"T_4052a_row23_col2\" class=\"data row23 col2\" >5</td>\n",
              "    </tr>\n",
              "  </tbody>\n",
              "</table>\n"
            ]
          },
          "metadata": {},
          "execution_count": 3
        }
      ]
    },
    {
      "cell_type": "markdown",
      "source": [
        "### **Assumption Check**\n",
        "Before the t-test can be interpreted, one needs to test the assumptions to consider the results as valid."
      ],
      "metadata": {
        "id": "RfoQtdYy9IzT"
      }
    },
    {
      "cell_type": "markdown",
      "source": [
        "**Assumption 1 - Normality**\n",
        "\n",
        "Check the normality assumption using Shapiro-Wilk test for each group separately. This can be completed using the `shapiro()` method from scipy.stats.\n",
        "\n"
      ],
      "metadata": {
        "id": "5HCQkXDY-Aqm"
      }
    },
    {
      "cell_type": "code",
      "source": [
        "# calculate the data\n",
        "group_0 = df[df['Cloak'] == 0]['Mischief']\n",
        "group_1 = df[df['Cloak'] == 1]['Mischief']\n",
        "\n",
        "shapiro_0 = stats.shapiro(group_0)\n",
        "shapiro_1 = stats.shapiro(group_1)\n",
        "\n",
        "# print the results\n",
        "print(\"Shapiro-Wilk test for normality:\")\n",
        "print(\"Group 0: p-value =\", shapiro_0.pvalue)\n",
        "print(\"Group 1: p-value =\", shapiro_1.pvalue)\n",
        "\n",
        "if shapiro_0.pvalue and shapiro_1.pvalue > 0.05:\n",
        "    print(\"\\nAns. The data is normally distributed.\")\n",
        "else:\n",
        "    print(\"\\nAns.: The data is not normally distributed.\")"
      ],
      "metadata": {
        "colab": {
          "base_uri": "https://localhost:8080/"
        },
        "id": "SurAntOz-liu",
        "outputId": "0b9251e1-1a26-4ca2-907a-42280e90ad64"
      },
      "execution_count": null,
      "outputs": [
        {
          "output_type": "stream",
          "name": "stdout",
          "text": [
            "Shapiro-Wilk test for normality:\n",
            "Group 0: p-value = 0.23144638538360596\n",
            "Group 1: p-value = 0.9361882209777832\n",
            "\n",
            "Ans. The data is normally distributed.\n"
          ]
        }
      ]
    },
    {
      "cell_type": "markdown",
      "source": [
        "**Assumption 2 - Homogeneity of variances**\n",
        "\n",
        "Check the homogeneity of variances assumption using Levene's test. This can be completed using the `levene()` method from scipy.stats."
      ],
      "metadata": {
        "id": "vUgkPNkkCKAM"
      }
    },
    {
      "cell_type": "code",
      "source": [
        "# calculate\n",
        "levene = stats.levene(group_0, group_1)\n",
        "\n",
        "# print the results\n",
        "print(\"Levene's test for homogeneity of variances: p-value = \", levene.pvalue)\n",
        "\n",
        "if levene.pvalue > 0.05:\n",
        "  print(\"\\nAns. The variances are equal.\")\n",
        "else:\n",
        "  print(\"\\nAns. The variances are not equal.\")"
      ],
      "metadata": {
        "colab": {
          "base_uri": "https://localhost:8080/"
        },
        "id": "svNJao1iCmqX",
        "outputId": "036f3c5f-096e-4d19-a068-4d43202b1b28"
      },
      "execution_count": null,
      "outputs": [
        {
          "output_type": "stream",
          "name": "stdout",
          "text": [
            "Levene's test for homogeneity of variances: p-value =  0.6086825890641905\n",
            "\n",
            "Ans. The variances are equal.\n"
          ]
        }
      ]
    },
    {
      "cell_type": "markdown",
      "source": [
        "**Assumption 3 - Independent Samples**\n",
        "\n",
        "This assumption is assumed to be met if the data is collected from two different groups.\n",
        "\n",
        "> Ans. The samples are independent.\n",
        "\n",
        "\n",
        "**Assumption 4 - Random Sampling**\n",
        "\n",
        "This assumption is assumed to be met if the data is collected randomly from the population.\n",
        "\n",
        "> Ans. The data is randomly sampled.\n",
        "\n",
        "**Assumption 5 - Random Sampling**\n",
        "\n",
        "This assumption is assumed to be met if the data is measured on an interval or ratio scale\n",
        "\n",
        "> Ans. The data is measured on an interval or ratio scale."
      ],
      "metadata": {
        "id": "GGYZlDaPDqaj"
      }
    },
    {
      "cell_type": "markdown",
      "source": [
        "### **Independent T-Test Using ResearchPy**\n",
        "Calculate the T-test for the means of two independent samples of the Invisibility Cloak Test using the `rp.ttest()` from ResearchPy.\n",
        "\n",
        "This method returns two data frames, one that contains the summary statistical information and the other that contained the statistical test information."
      ],
      "metadata": {
        "id": "OUXoOKnI7jAG"
      }
    },
    {
      "cell_type": "code",
      "source": [
        "# summary and results information\n",
        "summary, results = rp.ttest(df['Cloak'], df['Mischief'])\n",
        "\n",
        "# print the summary\n",
        "summary.style"
      ],
      "metadata": {
        "colab": {
          "base_uri": "https://localhost:8080/",
          "height": 198
        },
        "id": "W6l_e9CR8PT7",
        "outputId": "7deb098d-6555-4f6a-dd19-85cca64f1630"
      },
      "execution_count": null,
      "outputs": [
        {
          "output_type": "stream",
          "name": "stderr",
          "text": [
            "/usr/local/lib/python3.10/dist-packages/researchpy/ttest.py:38: FutureWarning: The series.append method is deprecated and will be removed from pandas in a future version. Use pandas.concat instead.\n",
            "  groups = group1.append(group2, ignore_index= True)\n"
          ]
        },
        {
          "output_type": "execute_result",
          "data": {
            "text/plain": [
              "<pandas.io.formats.style.Styler at 0x78586ff9f010>"
            ],
            "text/html": [
              "<style type=\"text/css\">\n",
              "</style>\n",
              "<table id=\"T_eeecf\" class=\"dataframe\">\n",
              "  <thead>\n",
              "    <tr>\n",
              "      <th class=\"blank level0\" >&nbsp;</th>\n",
              "      <th id=\"T_eeecf_level0_col0\" class=\"col_heading level0 col0\" >Variable</th>\n",
              "      <th id=\"T_eeecf_level0_col1\" class=\"col_heading level0 col1\" >N</th>\n",
              "      <th id=\"T_eeecf_level0_col2\" class=\"col_heading level0 col2\" >Mean</th>\n",
              "      <th id=\"T_eeecf_level0_col3\" class=\"col_heading level0 col3\" >SD</th>\n",
              "      <th id=\"T_eeecf_level0_col4\" class=\"col_heading level0 col4\" >SE</th>\n",
              "      <th id=\"T_eeecf_level0_col5\" class=\"col_heading level0 col5\" >95% Conf.</th>\n",
              "      <th id=\"T_eeecf_level0_col6\" class=\"col_heading level0 col6\" >Interval</th>\n",
              "    </tr>\n",
              "  </thead>\n",
              "  <tbody>\n",
              "    <tr>\n",
              "      <th id=\"T_eeecf_level0_row0\" class=\"row_heading level0 row0\" >0</th>\n",
              "      <td id=\"T_eeecf_row0_col0\" class=\"data row0 col0\" >Cloak</td>\n",
              "      <td id=\"T_eeecf_row0_col1\" class=\"data row0 col1\" >24.000000</td>\n",
              "      <td id=\"T_eeecf_row0_col2\" class=\"data row0 col2\" >0.500000</td>\n",
              "      <td id=\"T_eeecf_row0_col3\" class=\"data row0 col3\" >0.510754</td>\n",
              "      <td id=\"T_eeecf_row0_col4\" class=\"data row0 col4\" >0.104257</td>\n",
              "      <td id=\"T_eeecf_row0_col5\" class=\"data row0 col5\" >0.284328</td>\n",
              "      <td id=\"T_eeecf_row0_col6\" class=\"data row0 col6\" >0.715672</td>\n",
              "    </tr>\n",
              "    <tr>\n",
              "      <th id=\"T_eeecf_level0_row1\" class=\"row_heading level0 row1\" >1</th>\n",
              "      <td id=\"T_eeecf_row1_col0\" class=\"data row1 col0\" >Mischief</td>\n",
              "      <td id=\"T_eeecf_row1_col1\" class=\"data row1 col1\" >24.000000</td>\n",
              "      <td id=\"T_eeecf_row1_col2\" class=\"data row1 col2\" >4.375000</td>\n",
              "      <td id=\"T_eeecf_row1_col3\" class=\"data row1 col3\" >1.860633</td>\n",
              "      <td id=\"T_eeecf_row1_col4\" class=\"data row1 col4\" >0.379800</td>\n",
              "      <td id=\"T_eeecf_row1_col5\" class=\"data row1 col5\" >3.589323</td>\n",
              "      <td id=\"T_eeecf_row1_col6\" class=\"data row1 col6\" >5.160677</td>\n",
              "    </tr>\n",
              "    <tr>\n",
              "      <th id=\"T_eeecf_level0_row2\" class=\"row_heading level0 row2\" >2</th>\n",
              "      <td id=\"T_eeecf_row2_col0\" class=\"data row2 col0\" >combined</td>\n",
              "      <td id=\"T_eeecf_row2_col1\" class=\"data row2 col1\" >48.000000</td>\n",
              "      <td id=\"T_eeecf_row2_col2\" class=\"data row2 col2\" >2.437500</td>\n",
              "      <td id=\"T_eeecf_row2_col3\" class=\"data row2 col3\" >2.378147</td>\n",
              "      <td id=\"T_eeecf_row2_col4\" class=\"data row2 col4\" >0.343256</td>\n",
              "      <td id=\"T_eeecf_row2_col5\" class=\"data row2 col5\" >1.746958</td>\n",
              "      <td id=\"T_eeecf_row2_col6\" class=\"data row2 col6\" >3.128042</td>\n",
              "    </tr>\n",
              "  </tbody>\n",
              "</table>\n"
            ]
          },
          "metadata": {},
          "execution_count": 46
        }
      ]
    },
    {
      "cell_type": "code",
      "source": [
        "# print the results\n",
        "results.style"
      ],
      "metadata": {
        "colab": {
          "base_uri": "https://localhost:8080/",
          "height": 363
        },
        "id": "Gqu1egSEF7-0",
        "outputId": "69fe1408-32ca-4736-e382-2a72adabc14a"
      },
      "execution_count": null,
      "outputs": [
        {
          "output_type": "execute_result",
          "data": {
            "text/plain": [
              "<pandas.io.formats.style.Styler at 0x7858700e0b80>"
            ],
            "text/html": [
              "<style type=\"text/css\">\n",
              "</style>\n",
              "<table id=\"T_acb75\" class=\"dataframe\">\n",
              "  <thead>\n",
              "    <tr>\n",
              "      <th class=\"blank level0\" >&nbsp;</th>\n",
              "      <th id=\"T_acb75_level0_col0\" class=\"col_heading level0 col0\" >Independent t-test</th>\n",
              "      <th id=\"T_acb75_level0_col1\" class=\"col_heading level0 col1\" >results</th>\n",
              "    </tr>\n",
              "  </thead>\n",
              "  <tbody>\n",
              "    <tr>\n",
              "      <th id=\"T_acb75_level0_row0\" class=\"row_heading level0 row0\" >0</th>\n",
              "      <td id=\"T_acb75_row0_col0\" class=\"data row0 col0\" >Difference (Cloak - Mischief) = </td>\n",
              "      <td id=\"T_acb75_row0_col1\" class=\"data row0 col1\" >-3.875000</td>\n",
              "    </tr>\n",
              "    <tr>\n",
              "      <th id=\"T_acb75_level0_row1\" class=\"row_heading level0 row1\" >1</th>\n",
              "      <td id=\"T_acb75_row1_col0\" class=\"data row1 col0\" >Degrees of freedom = </td>\n",
              "      <td id=\"T_acb75_row1_col1\" class=\"data row1 col1\" >46.000000</td>\n",
              "    </tr>\n",
              "    <tr>\n",
              "      <th id=\"T_acb75_level0_row2\" class=\"row_heading level0 row2\" >2</th>\n",
              "      <td id=\"T_acb75_row2_col0\" class=\"data row2 col0\" >t = </td>\n",
              "      <td id=\"T_acb75_row2_col1\" class=\"data row2 col1\" >-9.838800</td>\n",
              "    </tr>\n",
              "    <tr>\n",
              "      <th id=\"T_acb75_level0_row3\" class=\"row_heading level0 row3\" >3</th>\n",
              "      <td id=\"T_acb75_row3_col0\" class=\"data row3 col0\" >Two side test p value = </td>\n",
              "      <td id=\"T_acb75_row3_col1\" class=\"data row3 col1\" >0.000000</td>\n",
              "    </tr>\n",
              "    <tr>\n",
              "      <th id=\"T_acb75_level0_row4\" class=\"row_heading level0 row4\" >4</th>\n",
              "      <td id=\"T_acb75_row4_col0\" class=\"data row4 col0\" >Difference < 0 p value = </td>\n",
              "      <td id=\"T_acb75_row4_col1\" class=\"data row4 col1\" >0.000000</td>\n",
              "    </tr>\n",
              "    <tr>\n",
              "      <th id=\"T_acb75_level0_row5\" class=\"row_heading level0 row5\" >5</th>\n",
              "      <td id=\"T_acb75_row5_col0\" class=\"data row5 col0\" >Difference > 0 p value = </td>\n",
              "      <td id=\"T_acb75_row5_col1\" class=\"data row5 col1\" >1.000000</td>\n",
              "    </tr>\n",
              "    <tr>\n",
              "      <th id=\"T_acb75_level0_row6\" class=\"row_heading level0 row6\" >6</th>\n",
              "      <td id=\"T_acb75_row6_col0\" class=\"data row6 col0\" >Cohen's d = </td>\n",
              "      <td id=\"T_acb75_row6_col1\" class=\"data row6 col1\" >-2.840200</td>\n",
              "    </tr>\n",
              "    <tr>\n",
              "      <th id=\"T_acb75_level0_row7\" class=\"row_heading level0 row7\" >7</th>\n",
              "      <td id=\"T_acb75_row7_col0\" class=\"data row7 col0\" >Hedge's g = </td>\n",
              "      <td id=\"T_acb75_row7_col1\" class=\"data row7 col1\" >-2.793600</td>\n",
              "    </tr>\n",
              "    <tr>\n",
              "      <th id=\"T_acb75_level0_row8\" class=\"row_heading level0 row8\" >8</th>\n",
              "      <td id=\"T_acb75_row8_col0\" class=\"data row8 col0\" >Glass's delta1 = </td>\n",
              "      <td id=\"T_acb75_row8_col1\" class=\"data row8 col1\" >-7.586800</td>\n",
              "    </tr>\n",
              "    <tr>\n",
              "      <th id=\"T_acb75_level0_row9\" class=\"row_heading level0 row9\" >9</th>\n",
              "      <td id=\"T_acb75_row9_col0\" class=\"data row9 col0\" >Point-Biserial r = </td>\n",
              "      <td id=\"T_acb75_row9_col1\" class=\"data row9 col1\" >-0.823300</td>\n",
              "    </tr>\n",
              "  </tbody>\n",
              "</table>\n"
            ]
          },
          "metadata": {},
          "execution_count": 47
        }
      ]
    },
    {
      "cell_type": "markdown",
      "source": [
        "**Presenting the results**\n",
        "\n",
        "The data from Mischief was significantly greater for the participants (*M* = 4.375, *SD* = 1.8, *n* = 24) than from Cloak which is (*M* = 0.5, *SD* = 0.51, *n* = 24), *t*(46) = -9.84, p = 6.807743389157861e-13, d = -2.84, 95% CI [-7.52, -0.23]"
      ],
      "metadata": {
        "id": "cq6lOU_LGVol"
      }
    },
    {
      "cell_type": "markdown",
      "source": [
        "### **Independent T-Test Using Scipy.Stats**\n",
        "\n",
        "Calculate the T-test for the means of two independent samples of the Invisibility Cloak Test using the `stats.ttest_ind()` from Scipy.Stats.\n",
        "\n",
        "This method conducts the independent sample t-test and returns only the t test statistic and it's associated p-value."
      ],
      "metadata": {
        "id": "aU1C0IQxISPU"
      }
    },
    {
      "cell_type": "code",
      "source": [
        "# p-value, t-statistics result\n",
        "t_statistic, p_value = stats.ttest_ind(df['Cloak'], df['Mischief'])\n",
        "\n",
        "# print the results\n",
        "print(\"t-statistic: \", t_statistic)\n",
        "print(\"p-value: \", p_value)"
      ],
      "metadata": {
        "colab": {
          "base_uri": "https://localhost:8080/"
        },
        "id": "Qna4jey5JMB2",
        "outputId": "79a8cc94-3813-448b-b1b6-22876c519abe"
      },
      "execution_count": null,
      "outputs": [
        {
          "output_type": "stream",
          "name": "stdout",
          "text": [
            "t-statistic:  -9.838773290101495\n",
            "p-value:  6.807743389157861e-13\n"
          ]
        }
      ]
    },
    {
      "cell_type": "markdown",
      "source": [
        "**Presenting the results**"
      ],
      "metadata": {
        "id": "ilXv6CDJJ98P"
      }
    },
    {
      "cell_type": "code",
      "source": [
        "# compute the effect size (cohen's d)\n",
        "n_0 = len(df['Cloak'])\n",
        "n_1 = len(df['Mischief'])\n",
        "mean_diff = df['Cloak'].mean() - df['Mischief'].mean()\n",
        "pooled_std = ((n_0 - 1) * df['Cloak'].var() + (n_1 - 1) * df['Mischief'].var()) / (n_0 + n_1 - 2)\n",
        "effect_size = mean_diff / pooled_std\n",
        "\n",
        "# print the result\n",
        "print(\"The data from Mischief was significantly greater for the participants (M = {:.2f}, SD = {:.2f}, n = {})\".format(df['Mischief'].mean(), df['Mischief'].std(), len(df['Mischief'])))\n",
        "print(\"than from Cloak which is (M = {:.2f}, SD = {:.2f}, n = {})\".format(df['Cloak'].mean(), df['Cloak'].std(), len(df['Cloak'])))\n",
        "print(\"t({}) = {:.2f}, p = {}, d = {:.2f}, 95% CI [{:.2f}, {:.2f}]\".format(len(df['Cloak']) + len(df['Mischief']) - 2, t_statistic, p_value, effect_size, mean_diff - 1.96 * pooled_std, mean_diff + 1.96 * pooled_std))"
      ],
      "metadata": {
        "colab": {
          "base_uri": "https://localhost:8080/"
        },
        "id": "CSqt2_A0KGug",
        "outputId": "3949dcd1-30c5-4b99-a313-c327eb5055ec"
      },
      "execution_count": null,
      "outputs": [
        {
          "output_type": "stream",
          "name": "stdout",
          "text": [
            "The data from Mischief was significantly greater for the participants (M = 4.38, SD = 1.86, n = 24)\n",
            "than from Cloak which is (M = 0.50, SD = 0.51, n = 24)\n",
            "t(46) = -9.84, p = 6.807743389157861e-13, d = -2.08, 95% CI [-7.52, -0.23]\n"
          ]
        }
      ]
    }
  ]
}