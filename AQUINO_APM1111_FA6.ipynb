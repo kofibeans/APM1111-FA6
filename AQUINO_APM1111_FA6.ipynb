{
  "nbformat": 4,
  "nbformat_minor": 0,
  "metadata": {
    "colab": {
      "provenance": [],
      "authorship_tag": "ABX9TyNKTHbM+6WOkhinVXkPm1Ye",
      "include_colab_link": true
    },
    "kernelspec": {
      "name": "python3",
      "display_name": "Python 3"
    },
    "language_info": {
      "name": "python"
    }
  },
  "cells": [
    {
      "cell_type": "markdown",
      "metadata": {
        "id": "view-in-github",
        "colab_type": "text"
      },
      "source": [
        "<a href=\"https://colab.research.google.com/github/kofibeans/APM1111-FA6/blob/main/AQUINO_APM1111_FA6.ipynb\" target=\"_parent\"><img src=\"https://colab.research.google.com/assets/colab-badge.svg\" alt=\"Open In Colab\"/></a>"
      ]
    },
    {
      "cell_type": "markdown",
      "source": [
        "### **APM1111 Formative Assessment 6**\n",
        "\n",
        "**Instruction**\n",
        "\n",
        "Provide an R or Python (with markdown) file for the independent samples t-test for Invisibility Cloak data set.\n",
        "\n",
        "*   The file should have all the codes/and or explanations from Assumption 1 to 5 and computation.\n",
        "*   Present the results of the analysis by making a short report."
      ],
      "metadata": {
        "id": "aQrIqhnW3TtN"
      }
    },
    {
      "cell_type": "markdown",
      "source": [
        "### **Import Library and Dataset**\n",
        "Import couple of Python library required for the analysis and create the dataset."
      ],
      "metadata": {
        "id": "wR7BmwcG3u11"
      }
    },
    {
      "cell_type": "code",
      "source": [
        "# import library\n",
        "\n",
        "import numpy as np\n",
        "import pandas as pd # data processing, csv file i/o (e.g. pd.read_csv)\n",
        "import scipy.stats as stats # statistical operations\n",
        "from scipy.stats import ttest_ind\n",
        "\n",
        "# visualization tools\n",
        "import matplotlib.pyplot as plt\n",
        "from IPython.display import display\n",
        "\n",
        "!pip install ptitprince\n",
        "import ptitprince as pt\n",
        "\n",
        "import statsmodels.api as sm\n",
        "from statsmodels.formula.api import ols\n",
        "from statsmodels.stats.anova import anova_lm\n",
        "\n",
        "!pip install researchpy\n",
        "import researchpy as rp # statistical operations"
      ],
      "metadata": {
        "colab": {
          "base_uri": "https://localhost:8080/"
        },
        "id": "BIBhE5dx5sOF",
        "outputId": "52847ea2-9ad7-43ef-9cc9-4ccfd02039ad"
      },
      "execution_count": null,
      "outputs": [
        {
          "output_type": "stream",
          "name": "stdout",
          "text": [
            "Collecting ptitprince\n",
            "  Downloading ptitprince-0.2.7.tar.gz (12 kB)\n",
            "  Preparing metadata (setup.py) ... \u001b[?25l\u001b[?25hdone\n",
            "Requirement already satisfied: matplotlib in /usr/local/lib/python3.10/dist-packages (from ptitprince) (3.7.1)\n",
            "Requirement already satisfied: numpy>=1.20 in /usr/local/lib/python3.10/dist-packages (from ptitprince) (1.23.5)\n",
            "Requirement already satisfied: scipy in /usr/local/lib/python3.10/dist-packages (from ptitprince) (1.11.3)\n",
            "Collecting seaborn==0.11 (from ptitprince)\n",
            "  Downloading seaborn-0.11.0-py3-none-any.whl (283 kB)\n",
            "\u001b[2K     \u001b[90m━━━━━━━━━━━━━━━━━━━━━━━━━━━━━━━━━━━━━━━━\u001b[0m \u001b[32m283.1/283.1 kB\u001b[0m \u001b[31m3.7 MB/s\u001b[0m eta \u001b[36m0:00:00\u001b[0m\n",
            "\u001b[?25hRequirement already satisfied: pandas>=0.23 in /usr/local/lib/python3.10/dist-packages (from seaborn==0.11->ptitprince) (1.5.3)\n",
            "Requirement already satisfied: contourpy>=1.0.1 in /usr/local/lib/python3.10/dist-packages (from matplotlib->ptitprince) (1.2.0)\n",
            "Requirement already satisfied: cycler>=0.10 in /usr/local/lib/python3.10/dist-packages (from matplotlib->ptitprince) (0.12.1)\n",
            "Requirement already satisfied: fonttools>=4.22.0 in /usr/local/lib/python3.10/dist-packages (from matplotlib->ptitprince) (4.44.0)\n",
            "Requirement already satisfied: kiwisolver>=1.0.1 in /usr/local/lib/python3.10/dist-packages (from matplotlib->ptitprince) (1.4.5)\n",
            "Requirement already satisfied: packaging>=20.0 in /usr/local/lib/python3.10/dist-packages (from matplotlib->ptitprince) (23.2)\n",
            "Requirement already satisfied: pillow>=6.2.0 in /usr/local/lib/python3.10/dist-packages (from matplotlib->ptitprince) (9.4.0)\n",
            "Requirement already satisfied: pyparsing>=2.3.1 in /usr/local/lib/python3.10/dist-packages (from matplotlib->ptitprince) (3.1.1)\n",
            "Requirement already satisfied: python-dateutil>=2.7 in /usr/local/lib/python3.10/dist-packages (from matplotlib->ptitprince) (2.8.2)\n",
            "Requirement already satisfied: pytz>=2020.1 in /usr/local/lib/python3.10/dist-packages (from pandas>=0.23->seaborn==0.11->ptitprince) (2023.3.post1)\n",
            "Requirement already satisfied: six>=1.5 in /usr/local/lib/python3.10/dist-packages (from python-dateutil>=2.7->matplotlib->ptitprince) (1.16.0)\n",
            "Building wheels for collected packages: ptitprince\n",
            "  Building wheel for ptitprince (setup.py) ... \u001b[?25l\u001b[?25hdone\n",
            "  Created wheel for ptitprince: filename=ptitprince-0.2.7-py3-none-any.whl size=10653 sha256=12cc719eac25d8a26f713b8ed65ff32a548579bca9c26c44dde77c694227e1c0\n",
            "  Stored in directory: /root/.cache/pip/wheels/0e/43/31/e76a3bf61865543f076a9d9eb027a740caefb379424ecba4e8\n",
            "Successfully built ptitprince\n",
            "Installing collected packages: seaborn, ptitprince\n",
            "  Attempting uninstall: seaborn\n",
            "    Found existing installation: seaborn 0.12.2\n",
            "    Uninstalling seaborn-0.12.2:\n",
            "      Successfully uninstalled seaborn-0.12.2\n",
            "\u001b[31mERROR: pip's dependency resolver does not currently take into account all the packages that are installed. This behaviour is the source of the following dependency conflicts.\n",
            "lida 0.0.10 requires fastapi, which is not installed.\n",
            "lida 0.0.10 requires kaleido, which is not installed.\n",
            "lida 0.0.10 requires python-multipart, which is not installed.\n",
            "lida 0.0.10 requires uvicorn, which is not installed.\u001b[0m\u001b[31m\n",
            "\u001b[0mSuccessfully installed ptitprince-0.2.7 seaborn-0.11.0\n",
            "Collecting researchpy\n",
            "  Downloading researchpy-0.3.5-py3-none-any.whl (33 kB)\n",
            "Requirement already satisfied: scipy in /usr/local/lib/python3.10/dist-packages (from researchpy) (1.11.3)\n",
            "Requirement already satisfied: numpy in /usr/local/lib/python3.10/dist-packages (from researchpy) (1.23.5)\n",
            "Requirement already satisfied: pandas in /usr/local/lib/python3.10/dist-packages (from researchpy) (1.5.3)\n",
            "Requirement already satisfied: statsmodels in /usr/local/lib/python3.10/dist-packages (from researchpy) (0.14.0)\n",
            "Requirement already satisfied: patsy in /usr/local/lib/python3.10/dist-packages (from researchpy) (0.5.3)\n",
            "Requirement already satisfied: python-dateutil>=2.8.1 in /usr/local/lib/python3.10/dist-packages (from pandas->researchpy) (2.8.2)\n",
            "Requirement already satisfied: pytz>=2020.1 in /usr/local/lib/python3.10/dist-packages (from pandas->researchpy) (2023.3.post1)\n",
            "Requirement already satisfied: six in /usr/local/lib/python3.10/dist-packages (from patsy->researchpy) (1.16.0)\n",
            "Requirement already satisfied: packaging>=21.3 in /usr/local/lib/python3.10/dist-packages (from statsmodels->researchpy) (23.2)\n",
            "Installing collected packages: researchpy\n",
            "Successfully installed researchpy-0.3.5\n"
          ]
        }
      ]
    },
    {
      "cell_type": "code",
      "source": [
        "# create the dataset\n",
        "data = {\n",
        "    'Participant': list(range(1, 25)),\n",
        "    'Cloak': [0]*12 + [1]*12,\n",
        "    'Mischief': [3, 1, 5, 4, 6, 4, 6, 2, 0, 5, 4, 5, 4, 3, 6, 6, 8, 5, 5, 4, 2, 5, 7, 5]\n",
        "}\n",
        "\n",
        "df = pd.DataFrame(data)\n",
        "df.style"
      ],
      "metadata": {
        "colab": {
          "base_uri": "https://localhost:8080/",
          "height": 802
        },
        "id": "kr3jhs5g6jN4",
        "outputId": "e88e4484-6535-4bd8-c0c8-b7d376f14fac"
      },
      "execution_count": null,
      "outputs": [
        {
          "output_type": "execute_result",
          "data": {
            "text/plain": [
              "<pandas.io.formats.style.Styler at 0x7a1ff00df070>"
            ],
            "text/html": [
              "<style type=\"text/css\">\n",
              "</style>\n",
              "<table id=\"T_6668d\" class=\"dataframe\">\n",
              "  <thead>\n",
              "    <tr>\n",
              "      <th class=\"blank level0\" >&nbsp;</th>\n",
              "      <th id=\"T_6668d_level0_col0\" class=\"col_heading level0 col0\" >Participant</th>\n",
              "      <th id=\"T_6668d_level0_col1\" class=\"col_heading level0 col1\" >Cloak</th>\n",
              "      <th id=\"T_6668d_level0_col2\" class=\"col_heading level0 col2\" >Mischief</th>\n",
              "    </tr>\n",
              "  </thead>\n",
              "  <tbody>\n",
              "    <tr>\n",
              "      <th id=\"T_6668d_level0_row0\" class=\"row_heading level0 row0\" >0</th>\n",
              "      <td id=\"T_6668d_row0_col0\" class=\"data row0 col0\" >1</td>\n",
              "      <td id=\"T_6668d_row0_col1\" class=\"data row0 col1\" >0</td>\n",
              "      <td id=\"T_6668d_row0_col2\" class=\"data row0 col2\" >3</td>\n",
              "    </tr>\n",
              "    <tr>\n",
              "      <th id=\"T_6668d_level0_row1\" class=\"row_heading level0 row1\" >1</th>\n",
              "      <td id=\"T_6668d_row1_col0\" class=\"data row1 col0\" >2</td>\n",
              "      <td id=\"T_6668d_row1_col1\" class=\"data row1 col1\" >0</td>\n",
              "      <td id=\"T_6668d_row1_col2\" class=\"data row1 col2\" >1</td>\n",
              "    </tr>\n",
              "    <tr>\n",
              "      <th id=\"T_6668d_level0_row2\" class=\"row_heading level0 row2\" >2</th>\n",
              "      <td id=\"T_6668d_row2_col0\" class=\"data row2 col0\" >3</td>\n",
              "      <td id=\"T_6668d_row2_col1\" class=\"data row2 col1\" >0</td>\n",
              "      <td id=\"T_6668d_row2_col2\" class=\"data row2 col2\" >5</td>\n",
              "    </tr>\n",
              "    <tr>\n",
              "      <th id=\"T_6668d_level0_row3\" class=\"row_heading level0 row3\" >3</th>\n",
              "      <td id=\"T_6668d_row3_col0\" class=\"data row3 col0\" >4</td>\n",
              "      <td id=\"T_6668d_row3_col1\" class=\"data row3 col1\" >0</td>\n",
              "      <td id=\"T_6668d_row3_col2\" class=\"data row3 col2\" >4</td>\n",
              "    </tr>\n",
              "    <tr>\n",
              "      <th id=\"T_6668d_level0_row4\" class=\"row_heading level0 row4\" >4</th>\n",
              "      <td id=\"T_6668d_row4_col0\" class=\"data row4 col0\" >5</td>\n",
              "      <td id=\"T_6668d_row4_col1\" class=\"data row4 col1\" >0</td>\n",
              "      <td id=\"T_6668d_row4_col2\" class=\"data row4 col2\" >6</td>\n",
              "    </tr>\n",
              "    <tr>\n",
              "      <th id=\"T_6668d_level0_row5\" class=\"row_heading level0 row5\" >5</th>\n",
              "      <td id=\"T_6668d_row5_col0\" class=\"data row5 col0\" >6</td>\n",
              "      <td id=\"T_6668d_row5_col1\" class=\"data row5 col1\" >0</td>\n",
              "      <td id=\"T_6668d_row5_col2\" class=\"data row5 col2\" >4</td>\n",
              "    </tr>\n",
              "    <tr>\n",
              "      <th id=\"T_6668d_level0_row6\" class=\"row_heading level0 row6\" >6</th>\n",
              "      <td id=\"T_6668d_row6_col0\" class=\"data row6 col0\" >7</td>\n",
              "      <td id=\"T_6668d_row6_col1\" class=\"data row6 col1\" >0</td>\n",
              "      <td id=\"T_6668d_row6_col2\" class=\"data row6 col2\" >6</td>\n",
              "    </tr>\n",
              "    <tr>\n",
              "      <th id=\"T_6668d_level0_row7\" class=\"row_heading level0 row7\" >7</th>\n",
              "      <td id=\"T_6668d_row7_col0\" class=\"data row7 col0\" >8</td>\n",
              "      <td id=\"T_6668d_row7_col1\" class=\"data row7 col1\" >0</td>\n",
              "      <td id=\"T_6668d_row7_col2\" class=\"data row7 col2\" >2</td>\n",
              "    </tr>\n",
              "    <tr>\n",
              "      <th id=\"T_6668d_level0_row8\" class=\"row_heading level0 row8\" >8</th>\n",
              "      <td id=\"T_6668d_row8_col0\" class=\"data row8 col0\" >9</td>\n",
              "      <td id=\"T_6668d_row8_col1\" class=\"data row8 col1\" >0</td>\n",
              "      <td id=\"T_6668d_row8_col2\" class=\"data row8 col2\" >0</td>\n",
              "    </tr>\n",
              "    <tr>\n",
              "      <th id=\"T_6668d_level0_row9\" class=\"row_heading level0 row9\" >9</th>\n",
              "      <td id=\"T_6668d_row9_col0\" class=\"data row9 col0\" >10</td>\n",
              "      <td id=\"T_6668d_row9_col1\" class=\"data row9 col1\" >0</td>\n",
              "      <td id=\"T_6668d_row9_col2\" class=\"data row9 col2\" >5</td>\n",
              "    </tr>\n",
              "    <tr>\n",
              "      <th id=\"T_6668d_level0_row10\" class=\"row_heading level0 row10\" >10</th>\n",
              "      <td id=\"T_6668d_row10_col0\" class=\"data row10 col0\" >11</td>\n",
              "      <td id=\"T_6668d_row10_col1\" class=\"data row10 col1\" >0</td>\n",
              "      <td id=\"T_6668d_row10_col2\" class=\"data row10 col2\" >4</td>\n",
              "    </tr>\n",
              "    <tr>\n",
              "      <th id=\"T_6668d_level0_row11\" class=\"row_heading level0 row11\" >11</th>\n",
              "      <td id=\"T_6668d_row11_col0\" class=\"data row11 col0\" >12</td>\n",
              "      <td id=\"T_6668d_row11_col1\" class=\"data row11 col1\" >0</td>\n",
              "      <td id=\"T_6668d_row11_col2\" class=\"data row11 col2\" >5</td>\n",
              "    </tr>\n",
              "    <tr>\n",
              "      <th id=\"T_6668d_level0_row12\" class=\"row_heading level0 row12\" >12</th>\n",
              "      <td id=\"T_6668d_row12_col0\" class=\"data row12 col0\" >13</td>\n",
              "      <td id=\"T_6668d_row12_col1\" class=\"data row12 col1\" >1</td>\n",
              "      <td id=\"T_6668d_row12_col2\" class=\"data row12 col2\" >4</td>\n",
              "    </tr>\n",
              "    <tr>\n",
              "      <th id=\"T_6668d_level0_row13\" class=\"row_heading level0 row13\" >13</th>\n",
              "      <td id=\"T_6668d_row13_col0\" class=\"data row13 col0\" >14</td>\n",
              "      <td id=\"T_6668d_row13_col1\" class=\"data row13 col1\" >1</td>\n",
              "      <td id=\"T_6668d_row13_col2\" class=\"data row13 col2\" >3</td>\n",
              "    </tr>\n",
              "    <tr>\n",
              "      <th id=\"T_6668d_level0_row14\" class=\"row_heading level0 row14\" >14</th>\n",
              "      <td id=\"T_6668d_row14_col0\" class=\"data row14 col0\" >15</td>\n",
              "      <td id=\"T_6668d_row14_col1\" class=\"data row14 col1\" >1</td>\n",
              "      <td id=\"T_6668d_row14_col2\" class=\"data row14 col2\" >6</td>\n",
              "    </tr>\n",
              "    <tr>\n",
              "      <th id=\"T_6668d_level0_row15\" class=\"row_heading level0 row15\" >15</th>\n",
              "      <td id=\"T_6668d_row15_col0\" class=\"data row15 col0\" >16</td>\n",
              "      <td id=\"T_6668d_row15_col1\" class=\"data row15 col1\" >1</td>\n",
              "      <td id=\"T_6668d_row15_col2\" class=\"data row15 col2\" >6</td>\n",
              "    </tr>\n",
              "    <tr>\n",
              "      <th id=\"T_6668d_level0_row16\" class=\"row_heading level0 row16\" >16</th>\n",
              "      <td id=\"T_6668d_row16_col0\" class=\"data row16 col0\" >17</td>\n",
              "      <td id=\"T_6668d_row16_col1\" class=\"data row16 col1\" >1</td>\n",
              "      <td id=\"T_6668d_row16_col2\" class=\"data row16 col2\" >8</td>\n",
              "    </tr>\n",
              "    <tr>\n",
              "      <th id=\"T_6668d_level0_row17\" class=\"row_heading level0 row17\" >17</th>\n",
              "      <td id=\"T_6668d_row17_col0\" class=\"data row17 col0\" >18</td>\n",
              "      <td id=\"T_6668d_row17_col1\" class=\"data row17 col1\" >1</td>\n",
              "      <td id=\"T_6668d_row17_col2\" class=\"data row17 col2\" >5</td>\n",
              "    </tr>\n",
              "    <tr>\n",
              "      <th id=\"T_6668d_level0_row18\" class=\"row_heading level0 row18\" >18</th>\n",
              "      <td id=\"T_6668d_row18_col0\" class=\"data row18 col0\" >19</td>\n",
              "      <td id=\"T_6668d_row18_col1\" class=\"data row18 col1\" >1</td>\n",
              "      <td id=\"T_6668d_row18_col2\" class=\"data row18 col2\" >5</td>\n",
              "    </tr>\n",
              "    <tr>\n",
              "      <th id=\"T_6668d_level0_row19\" class=\"row_heading level0 row19\" >19</th>\n",
              "      <td id=\"T_6668d_row19_col0\" class=\"data row19 col0\" >20</td>\n",
              "      <td id=\"T_6668d_row19_col1\" class=\"data row19 col1\" >1</td>\n",
              "      <td id=\"T_6668d_row19_col2\" class=\"data row19 col2\" >4</td>\n",
              "    </tr>\n",
              "    <tr>\n",
              "      <th id=\"T_6668d_level0_row20\" class=\"row_heading level0 row20\" >20</th>\n",
              "      <td id=\"T_6668d_row20_col0\" class=\"data row20 col0\" >21</td>\n",
              "      <td id=\"T_6668d_row20_col1\" class=\"data row20 col1\" >1</td>\n",
              "      <td id=\"T_6668d_row20_col2\" class=\"data row20 col2\" >2</td>\n",
              "    </tr>\n",
              "    <tr>\n",
              "      <th id=\"T_6668d_level0_row21\" class=\"row_heading level0 row21\" >21</th>\n",
              "      <td id=\"T_6668d_row21_col0\" class=\"data row21 col0\" >22</td>\n",
              "      <td id=\"T_6668d_row21_col1\" class=\"data row21 col1\" >1</td>\n",
              "      <td id=\"T_6668d_row21_col2\" class=\"data row21 col2\" >5</td>\n",
              "    </tr>\n",
              "    <tr>\n",
              "      <th id=\"T_6668d_level0_row22\" class=\"row_heading level0 row22\" >22</th>\n",
              "      <td id=\"T_6668d_row22_col0\" class=\"data row22 col0\" >23</td>\n",
              "      <td id=\"T_6668d_row22_col1\" class=\"data row22 col1\" >1</td>\n",
              "      <td id=\"T_6668d_row22_col2\" class=\"data row22 col2\" >7</td>\n",
              "    </tr>\n",
              "    <tr>\n",
              "      <th id=\"T_6668d_level0_row23\" class=\"row_heading level0 row23\" >23</th>\n",
              "      <td id=\"T_6668d_row23_col0\" class=\"data row23 col0\" >24</td>\n",
              "      <td id=\"T_6668d_row23_col1\" class=\"data row23 col1\" >1</td>\n",
              "      <td id=\"T_6668d_row23_col2\" class=\"data row23 col2\" >5</td>\n",
              "    </tr>\n",
              "  </tbody>\n",
              "</table>\n"
            ]
          },
          "metadata": {},
          "execution_count": 3
        }
      ]
    },
    {
      "cell_type": "markdown",
      "source": [
        "### **Assumption Check**\n",
        "Before the t-test can be interpreted, one needs to test the assumptions to consider the results as valid."
      ],
      "metadata": {
        "id": "RfoQtdYy9IzT"
      }
    },
    {
      "cell_type": "markdown",
      "source": [
        "**Assumption 1.** The dependent variable (Mischief) is a *continuous* level.\n",
        "\n",
        "**Assumption 2.** The independent variable (Cloak) consists of two *categorical*, independent\n",
        "groups (With a cloak, Without a cloak).\n",
        "\n",
        "**Assumption 3.** Each participant is present to only one group."
      ],
      "metadata": {
        "id": "GGYZlDaPDqaj"
      }
    },
    {
      "cell_type": "code",
      "source": [
        "# creating the raincloud plot\n",
        "plt.figure(figsize=(10, 6))\n",
        "\n",
        "pt.RainCloud(x='Cloak', y='Mischief', data=df, palette=\"Set2\")\n",
        "\n",
        "plt.xticks([0, 1], ['Without a cloak', 'With a cloak'])\n",
        "plt.title(\"Raincloud Plot - Invisibility Cloak Dataset\")\n",
        "plt.xlabel(\"Cloak\")\n",
        "plt.ylabel(\"Mischief\")\n",
        "\n",
        "plt.show()"
      ],
      "metadata": {
        "colab": {
          "base_uri": "https://localhost:8080/",
          "height": 441
        },
        "id": "6k6xgz0YTRLR",
        "outputId": "fcd9ebbc-14c4-480b-99a3-2244f995fdd1"
      },
      "execution_count": null,
      "outputs": [
        {
          "output_type": "display_data",
          "data": {
            "text/plain": [
              "<Figure size 1000x600 with 1 Axes>"
            ],
            "image/png": "[encoded data removed]"
          },
          "metadata": {}
        }
      ]
    },
    {
      "cell_type": "markdown",
      "source": [
        "**Assumption 4. Outliers** There are *no significant outliers* in the two groups of independent variable (Cloak) in terms of the dependent variable (Mischief), as assessed by visual inspection of boxplots."
      ],
      "metadata": {
        "id": "5OKBr-KsWYBa"
      }
    },
    {
      "cell_type": "markdown",
      "source": [
        "**Assumption 5. Normality.** The dependent variable (Mischief) for each group (Cloak) is normally distributed (p > 0.05), as assessed by Shapiro-Wilk test."
      ],
      "metadata": {
        "id": "87ayt_PZOsaq"
      }
    },
    {
      "cell_type": "code",
      "source": [
        "# checking the normality assumption for each group using Shapiro-Wilk test\n",
        "group_0 = df[df['Cloak'] == 0]['Mischief']\n",
        "group_1 = df[df['Cloak'] == 1]['Mischief']\n",
        "\n",
        "shapiro_0 = stats.shapiro(group_0)\n",
        "shapiro_1 = stats.shapiro(group_1)\n",
        "\n",
        "# creating a table for the Shapiro-Wilk test results\n",
        "results = pd.DataFrame({'Mischief': ['Without a cloak', 'With a cloak'],\n",
        "                        'W-statistic': [shapiro_0.statistic, shapiro_1.statistic],\n",
        "                       'p-value': [shapiro_0.pvalue, shapiro_1.pvalue]})\n",
        "\n",
        "print(\"\\nTest of Normality (Shapiro-Wilk)\")\n",
        "\n",
        "results.style"
      ],
      "metadata": {
        "colab": {
          "base_uri": "https://localhost:8080/",
          "height": 147
        },
        "id": "HSjxppffWbfA",
        "outputId": "ff9ccda3-4d41-4baa-f4ae-12eff6be9bfa"
      },
      "execution_count": null,
      "outputs": [
        {
          "output_type": "stream",
          "name": "stdout",
          "text": [
            "\n",
            "Test of Normality (Shapiro-Wilk)\n"
          ]
        },
        {
          "output_type": "execute_result",
          "data": {
            "text/plain": [
              "<pandas.io.formats.style.Styler at 0x7a1fefea3850>"
            ],
            "text/html": [
              "<style type=\"text/css\">\n",
              "</style>\n",
              "<table id=\"T_73cda\" class=\"dataframe\">\n",
              "  <thead>\n",
              "    <tr>\n",
              "      <th class=\"blank level0\" >&nbsp;</th>\n",
              "      <th id=\"T_73cda_level0_col0\" class=\"col_heading level0 col0\" >Mischief</th>\n",
              "      <th id=\"T_73cda_level0_col1\" class=\"col_heading level0 col1\" >W-statistic</th>\n",
              "      <th id=\"T_73cda_level0_col2\" class=\"col_heading level0 col2\" >p-value</th>\n",
              "    </tr>\n",
              "  </thead>\n",
              "  <tbody>\n",
              "    <tr>\n",
              "      <th id=\"T_73cda_level0_row0\" class=\"row_heading level0 row0\" >0</th>\n",
              "      <td id=\"T_73cda_row0_col0\" class=\"data row0 col0\" >Without a cloak</td>\n",
              "      <td id=\"T_73cda_row0_col1\" class=\"data row0 col1\" >0.912764</td>\n",
              "      <td id=\"T_73cda_row0_col2\" class=\"data row0 col2\" >0.231446</td>\n",
              "    </tr>\n",
              "    <tr>\n",
              "      <th id=\"T_73cda_level0_row1\" class=\"row_heading level0 row1\" >1</th>\n",
              "      <td id=\"T_73cda_row1_col0\" class=\"data row1 col0\" >With a cloak</td>\n",
              "      <td id=\"T_73cda_row1_col1\" class=\"data row1 col1\" >0.972617</td>\n",
              "      <td id=\"T_73cda_row1_col2\" class=\"data row1 col2\" >0.936188</td>\n",
              "    </tr>\n",
              "  </tbody>\n",
              "</table>\n"
            ]
          },
          "metadata": {},
          "execution_count": 5
        }
      ]
    },
    {
      "cell_type": "markdown",
      "source": [
        "*Note.* Significant results suggest a deviation from normality."
      ],
      "metadata": {
        "id": "hYm4aoNxoNe7"
      }
    },
    {
      "cell_type": "markdown",
      "source": [
        "**Assumption 6. Homogeneity of variances.** There is equality of variances between groups (Without a cloak, With a cloak) on their number of mischievous acts (Mischief), as assessed by Levene’s test of equality of variances.\n"
      ],
      "metadata": {
        "id": "beOj-yHtZEJ1"
      }
    },
    {
      "cell_type": "code",
      "source": [
        "# perform brown-forsythe test\n",
        "bf_results = stats.levene(group_0, group_1, center='median')\n",
        "\n",
        "# create a dictionary with the results\n",
        "results = {\n",
        "    'F': bf_results.statistic,\n",
        "    'df1': [2 - 1],\n",
        "    'df2': [len(group_0) + len(group_1) - 2],\n",
        "    'p': bf_results.pvalue\n",
        "}\n",
        "\n",
        "# create a dataframe with the results\n",
        "results_f = pd.DataFrame(results)\n",
        "\n",
        "# print and style the dataframe\n",
        "print(\"\\n Test of Equality of Variances (Brown-Forsythe)\")\n",
        "results_f.style.format(\"{:,.3f}\")"
      ],
      "metadata": {
        "colab": {
          "base_uri": "https://localhost:8080/",
          "height": 115
        },
        "id": "B1jMvsFZMLmc",
        "outputId": "ae01f518-059c-4462-b0a4-1f1380e096ce"
      },
      "execution_count": null,
      "outputs": [
        {
          "output_type": "stream",
          "name": "stdout",
          "text": [
            "\n",
            " Test of Equality of Variances (Brown-Forsythe)\n"
          ]
        },
        {
          "output_type": "execute_result",
          "data": {
            "text/plain": [
              "<pandas.io.formats.style.Styler at 0x7a2038958e80>"
            ],
            "text/html": [
              "<style type=\"text/css\">\n",
              "</style>\n",
              "<table id=\"T_ec294\" class=\"dataframe\">\n",
              "  <thead>\n",
              "    <tr>\n",
              "      <th class=\"blank level0\" >&nbsp;</th>\n",
              "      <th id=\"T_ec294_level0_col0\" class=\"col_heading level0 col0\" >F</th>\n",
              "      <th id=\"T_ec294_level0_col1\" class=\"col_heading level0 col1\" >df1</th>\n",
              "      <th id=\"T_ec294_level0_col2\" class=\"col_heading level0 col2\" >df2</th>\n",
              "      <th id=\"T_ec294_level0_col3\" class=\"col_heading level0 col3\" >p</th>\n",
              "    </tr>\n",
              "  </thead>\n",
              "  <tbody>\n",
              "    <tr>\n",
              "      <th id=\"T_ec294_level0_row0\" class=\"row_heading level0 row0\" >0</th>\n",
              "      <td id=\"T_ec294_row0_col0\" class=\"data row0 col0\" >0.270</td>\n",
              "      <td id=\"T_ec294_row0_col1\" class=\"data row0 col1\" >1.000</td>\n",
              "      <td id=\"T_ec294_row0_col2\" class=\"data row0 col2\" >22.000</td>\n",
              "      <td id=\"T_ec294_row0_col3\" class=\"data row0 col3\" >0.609</td>\n",
              "    </tr>\n",
              "  </tbody>\n",
              "</table>\n"
            ]
          },
          "metadata": {},
          "execution_count": 15
        }
      ]
    },
    {
      "cell_type": "markdown",
      "source": [
        "### **Computation**"
      ],
      "metadata": {
        "id": "06PQmgUUe1io"
      }
    },
    {
      "cell_type": "markdown",
      "source": [
        "**descriptives: the summary statistical information**"
      ],
      "metadata": {
        "id": "oKNja0kuy2MV"
      }
    },
    {
      "cell_type": "code",
      "source": [
        "group_0 = df[df['Cloak'] == 0]['Mischief']\n",
        "group_1 = df[df['Cloak'] == 1]['Mischief']\n",
        "\n",
        "# create a new dataframe\n",
        "new_df = pd.DataFrame({'Group 0': group_0, 'Group 1': group_1})\n",
        "\n",
        "# use describe() on the new dataframe\n",
        "description = new_df.describe()\n",
        "\n",
        "# display\n",
        "description.style.format(\"{:,.3f}\")"
      ],
      "metadata": {
        "colab": {
          "base_uri": "https://localhost:8080/",
          "height": 300
        },
        "id": "PgMt3IC6PtDu",
        "outputId": "a0f3bacb-5966-4e18-fa78-993f8869df68"
      },
      "execution_count": null,
      "outputs": [
        {
          "output_type": "execute_result",
          "data": {
            "text/plain": [
              "<pandas.io.formats.style.Styler at 0x7a1fe762bf40>"
            ],
            "text/html": [
              "<style type=\"text/css\">\n",
              "</style>\n",
              "<table id=\"T_b352c\" class=\"dataframe\">\n",
              "  <thead>\n",
              "    <tr>\n",
              "      <th class=\"blank level0\" >&nbsp;</th>\n",
              "      <th id=\"T_b352c_level0_col0\" class=\"col_heading level0 col0\" >Group 0</th>\n",
              "      <th id=\"T_b352c_level0_col1\" class=\"col_heading level0 col1\" >Group 1</th>\n",
              "    </tr>\n",
              "  </thead>\n",
              "  <tbody>\n",
              "    <tr>\n",
              "      <th id=\"T_b352c_level0_row0\" class=\"row_heading level0 row0\" >count</th>\n",
              "      <td id=\"T_b352c_row0_col0\" class=\"data row0 col0\" >12.000</td>\n",
              "      <td id=\"T_b352c_row0_col1\" class=\"data row0 col1\" >12.000</td>\n",
              "    </tr>\n",
              "    <tr>\n",
              "      <th id=\"T_b352c_level0_row1\" class=\"row_heading level0 row1\" >mean</th>\n",
              "      <td id=\"T_b352c_row1_col0\" class=\"data row1 col0\" >3.750</td>\n",
              "      <td id=\"T_b352c_row1_col1\" class=\"data row1 col1\" >5.000</td>\n",
              "    </tr>\n",
              "    <tr>\n",
              "      <th id=\"T_b352c_level0_row2\" class=\"row_heading level0 row2\" >std</th>\n",
              "      <td id=\"T_b352c_row2_col0\" class=\"data row2 col0\" >1.913</td>\n",
              "      <td id=\"T_b352c_row2_col1\" class=\"data row2 col1\" >1.651</td>\n",
              "    </tr>\n",
              "    <tr>\n",
              "      <th id=\"T_b352c_level0_row3\" class=\"row_heading level0 row3\" >min</th>\n",
              "      <td id=\"T_b352c_row3_col0\" class=\"data row3 col0\" >0.000</td>\n",
              "      <td id=\"T_b352c_row3_col1\" class=\"data row3 col1\" >2.000</td>\n",
              "    </tr>\n",
              "    <tr>\n",
              "      <th id=\"T_b352c_level0_row4\" class=\"row_heading level0 row4\" >25%</th>\n",
              "      <td id=\"T_b352c_row4_col0\" class=\"data row4 col0\" >2.750</td>\n",
              "      <td id=\"T_b352c_row4_col1\" class=\"data row4 col1\" >4.000</td>\n",
              "    </tr>\n",
              "    <tr>\n",
              "      <th id=\"T_b352c_level0_row5\" class=\"row_heading level0 row5\" >50%</th>\n",
              "      <td id=\"T_b352c_row5_col0\" class=\"data row5 col0\" >4.000</td>\n",
              "      <td id=\"T_b352c_row5_col1\" class=\"data row5 col1\" >5.000</td>\n",
              "    </tr>\n",
              "    <tr>\n",
              "      <th id=\"T_b352c_level0_row6\" class=\"row_heading level0 row6\" >75%</th>\n",
              "      <td id=\"T_b352c_row6_col0\" class=\"data row6 col0\" >5.000</td>\n",
              "      <td id=\"T_b352c_row6_col1\" class=\"data row6 col1\" >6.000</td>\n",
              "    </tr>\n",
              "    <tr>\n",
              "      <th id=\"T_b352c_level0_row7\" class=\"row_heading level0 row7\" >max</th>\n",
              "      <td id=\"T_b352c_row7_col0\" class=\"data row7 col0\" >6.000</td>\n",
              "      <td id=\"T_b352c_row7_col1\" class=\"data row7 col1\" >8.000</td>\n",
              "    </tr>\n",
              "  </tbody>\n",
              "</table>\n"
            ]
          },
          "metadata": {},
          "execution_count": 20
        }
      ]
    },
    {
      "cell_type": "markdown",
      "source": [
        "![desc_plot.png](data:image/png;base64,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)"
      ],
      "metadata": {
        "id": "AgnPv57IUE-P"
      }
    },
    {
      "cell_type": "markdown",
      "source": [
        "**the statistical test information**"
      ],
      "metadata": {
        "id": "kW1KsUNTy5pZ"
      }
    },
    {
      "cell_type": "code",
      "source": [
        "# define the two groups of data\n",
        "group_0 = [3, 1, 5, 4, 6, 4, 6, 2, 0, 5, 4, 5]\n",
        "group_1 = [4, 3, 6, 6, 8, 5, 5, 4, 2, 5, 7, 5]\n",
        "\n",
        "# perform independent samples t-test\n",
        "t_statistic, p_value = ttest_ind(group_0, group_1)\n",
        "\n",
        "# calculate mean difference\n",
        "mean_difference = np.mean(group_0) - np.mean(group_1)\n",
        "\n",
        "# calculate standard error of the difference\n",
        "se_difference = np.sqrt(np.var(group_0, ddof = 1)/len(group_0) + np.var(group_1,ddof = 1)/len(group_1))\n",
        "\n",
        "# calculate 95% CI for mean difference\n",
        "ci_lower = mean_difference - 1.96 * se_difference\n",
        "ci_upper = mean_difference + 1.96 * se_difference\n",
        "\n",
        "# create a dictionary with the results\n",
        "results = {\n",
        "    't': [t_statistic],\n",
        "    'df': [len(group_0) + len(group_1) - 2],\n",
        "    'p-value': [p_value],\n",
        "    'Mean Difference': [mean_difference],\n",
        "    'SE Difference': [se_difference],\n",
        "    '95% CI (Lower)': [ci_lower],\n",
        "    '95% CI (Upper)': [ci_upper]\n",
        "}\n",
        "\n",
        "# create a dataframe from the dictionary\n",
        "df_results = pd.DataFrame(results)\n",
        "\n",
        "# format float of the dataframe\n",
        "df_results.style.format(\"{:,.3f}\")"
      ],
      "metadata": {
        "colab": {
          "base_uri": "https://localhost:8080/",
          "height": 98
        },
        "id": "6SiXCUzrhJt9",
        "outputId": "7df63252-abbc-40e9-dabc-85631c05612e"
      },
      "execution_count": 21,
      "outputs": [
        {
          "output_type": "execute_result",
          "data": {
            "text/plain": [
              "<pandas.io.formats.style.Styler at 0x7a1fe7d4d6f0>"
            ],
            "text/html": [
              "<style type=\"text/css\">\n",
              "</style>\n",
              "<table id=\"T_9318d\" class=\"dataframe\">\n",
              "  <thead>\n",
              "    <tr>\n",
              "      <th class=\"blank level0\" >&nbsp;</th>\n",
              "      <th id=\"T_9318d_level0_col0\" class=\"col_heading level0 col0\" >t</th>\n",
              "      <th id=\"T_9318d_level0_col1\" class=\"col_heading level0 col1\" >df</th>\n",
              "      <th id=\"T_9318d_level0_col2\" class=\"col_heading level0 col2\" >p-value</th>\n",
              "      <th id=\"T_9318d_level0_col3\" class=\"col_heading level0 col3\" >Mean Difference</th>\n",
              "      <th id=\"T_9318d_level0_col4\" class=\"col_heading level0 col4\" >SE Difference</th>\n",
              "      <th id=\"T_9318d_level0_col5\" class=\"col_heading level0 col5\" >d</th>\n",
              "      <th id=\"T_9318d_level0_col6\" class=\"col_heading level0 col6\" >95% CI (Lower)</th>\n",
              "      <th id=\"T_9318d_level0_col7\" class=\"col_heading level0 col7\" >95% CI (Upper)</th>\n",
              "    </tr>\n",
              "  </thead>\n",
              "  <tbody>\n",
              "    <tr>\n",
              "      <th id=\"T_9318d_level0_row0\" class=\"row_heading level0 row0\" >0</th>\n",
              "      <td id=\"T_9318d_row0_col0\" class=\"data row0 col0\" >-1.713</td>\n",
              "      <td id=\"T_9318d_row0_col1\" class=\"data row0 col1\" >22.000</td>\n",
              "      <td id=\"T_9318d_row0_col2\" class=\"data row0 col2\" >0.101</td>\n",
              "      <td id=\"T_9318d_row0_col3\" class=\"data row0 col3\" >-1.250</td>\n",
              "      <td id=\"T_9318d_row0_col4\" class=\"data row0 col4\" >0.730</td>\n",
              "      <td id=\"T_9318d_row0_col5\" class=\"data row0 col5\" >-1.713</td>\n",
              "      <td id=\"T_9318d_row0_col6\" class=\"data row0 col6\" >-2.680</td>\n",
              "      <td id=\"T_9318d_row0_col7\" class=\"data row0 col7\" >0.180</td>\n",
              "    </tr>\n",
              "  </tbody>\n",
              "</table>\n"
            ]
          },
          "metadata": {},
          "execution_count": 21
        }
      ]
    },
    {
      "cell_type": "markdown",
      "source": [
        "This table shows the output for the independent samples t-test. The differences between the groups are not statistically significant at the .05 level, which means that the data do not provide much motivation to reject the null hypothesis."
      ],
      "metadata": {
        "id": "2D_3vdS6Vxav"
      }
    },
    {
      "cell_type": "markdown",
      "source": [
        "### **Presenting the results**"
      ],
      "metadata": {
        "id": "ScZ2m-J0zDWK"
      }
    },
    {
      "cell_type": "markdown",
      "source": [
        "Students wearing an invisibility cloak (M = 5.00, SD =\t1.65, n = 12) did not conduct more acts of mischief than students not wearing invisibility cloak (M = 3.75,\tSD = 1.91, n = 12), t(22) = -1.71, p = 0.101, 95% CI [-2.68 0.18]."
      ],
      "metadata": {
        "id": "n2oB69OsvJva"
      }
    }
  ]
}